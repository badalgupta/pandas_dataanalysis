{
 "cells": [
  {
   "cell_type": "markdown",
   "metadata": {
    "colab_type": "text",
    "id": "vr4WVR3SrkOy"
   },
   "source": [
    "**Learning Outcomes**\n",
    "1. Pandas Introductions.\n",
    "2. Series and Dataframe Pandas importnat data structures.\n",
    "3. Loading Data into dataframes\n",
    "4. Manipulating the data the Dataframe.\n",
    "5. Dealing with null values.\n",
    "\n",
    "\n"
   ]
  },
  {
   "cell_type": "markdown",
   "metadata": {
    "colab_type": "text",
    "id": "qINvc0corYzP"
   },
   "source": [
    "**Pandas** is most commonly used Python libaray used for Loading and manupulating different structured data from csv , excel or tsv file formats."
   ]
  },
  {
   "cell_type": "markdown",
   "metadata": {
    "colab_type": "text",
    "id": "7ZMsW54RbPUr"
   },
   "source": [
    "# Importing Pandas into Python"
   ]
  },
  {
   "cell_type": "code",
   "execution_count": 0,
   "metadata": {
    "colab": {},
    "colab_type": "code",
    "id": "T6FeIRiyrYPM"
   },
   "outputs": [],
   "source": [
    "import pandas as pd  #This Line will import pandas into your Python Program"
   ]
  },
  {
   "cell_type": "markdown",
   "metadata": {
    "colab_type": "text",
    "id": "A9MAfo1Ub68H"
   },
   "source": [
    "Primary Data Structure of Pandas\n",
    "1. Series \n",
    "2. DataFrame\n",
    "\n",
    "Series is a one-dimensional labeled array capable of holding data of any type (integer, string, float, python objects, etc.).\n",
    "\n",
    "Data frame is a two-dimensional data structure, i.e., data is aligned in a tabular fashion in rows and columns. Pandas DataFrame consists of three principal components, the data, rows, and columns."
   ]
  },
  {
   "cell_type": "code",
   "execution_count": 0,
   "metadata": {
    "colab": {
     "base_uri": "https://localhost:8080/",
     "height": 51
    },
    "colab_type": "code",
    "id": "7LBxO9SnbjgN",
    "outputId": "bc44c34e-6668-4ab6-df89-c3e60f8e77fa"
   },
   "outputs": [
    {
     "name": "stdout",
     "output_type": "stream",
     "text": [
      "<class 'list'>\n",
      "['Delhi', 'Mumbai', 'Rahuri']\n"
     ]
    }
   ],
   "source": [
    "city_name =  ['Delhi' , 'Mumbai' , 'Rahuri']  # This is Python List which contain name of the cities\n",
    "print(type(city_name))\n",
    "print(city_name)"
   ]
  },
  {
   "cell_type": "markdown",
   "metadata": {
    "colab_type": "text",
    "id": "OxFVUrZ8d0to"
   },
   "source": [
    "#Now Creating a Series from List\n",
    "\n"
   ]
  },
  {
   "cell_type": "code",
   "execution_count": 0,
   "metadata": {
    "colab": {
     "base_uri": "https://localhost:8080/",
     "height": 85
    },
    "colab_type": "code",
    "id": "eIthJttFdyat",
    "outputId": "8b339ec5-e920-4a98-f27f-6c596fbcb2d6"
   },
   "outputs": [
    {
     "name": "stdout",
     "output_type": "stream",
     "text": [
      "0     Delhi\n",
      "1    Mumbai\n",
      "2    Rahuri\n",
      "dtype: object\n"
     ]
    }
   ],
   "source": [
    "city_series = pd.Series(city_name)\n",
    "print(city_series)"
   ]
  },
  {
   "cell_type": "code",
   "execution_count": 0,
   "metadata": {
    "colab": {
     "base_uri": "https://localhost:8080/",
     "height": 34
    },
    "colab_type": "code",
    "id": "O7H9ai4gers1",
    "outputId": "556ca9e0-bc56-4c73-b1af-d5003d3a18bd"
   },
   "outputs": [
    {
     "name": "stdout",
     "output_type": "stream",
     "text": [
      "<class 'pandas.core.series.Series'>\n"
     ]
    }
   ],
   "source": [
    "print(type(city_series))"
   ]
  },
  {
   "cell_type": "code",
   "execution_count": 0,
   "metadata": {
    "colab": {},
    "colab_type": "code",
    "id": "phFBVeroex97"
   },
   "outputs": [],
   "source": [
    "city_dataframe = pd.DataFrame(city_name)"
   ]
  },
  {
   "cell_type": "code",
   "execution_count": 0,
   "metadata": {
    "colab": {
     "base_uri": "https://localhost:8080/",
     "height": 85
    },
    "colab_type": "code",
    "id": "xVp7KPe5fCmb",
    "outputId": "9106ba95-f8c4-4900-babe-9a37798e0a96"
   },
   "outputs": [
    {
     "name": "stdout",
     "output_type": "stream",
     "text": [
      "        0\n",
      "0   Delhi\n",
      "1  Mumbai\n",
      "2  Rahuri\n"
     ]
    }
   ],
   "source": [
    "print(city_dataframe)"
   ]
  },
  {
   "cell_type": "markdown",
   "metadata": {
    "colab_type": "text",
    "id": "i4hW416agV-M"
   },
   "source": [
    "#Difference Between Series and Data Frame\n",
    "\n",
    "\n"
   ]
  },
  {
   "cell_type": "code",
   "execution_count": 0,
   "metadata": {
    "colab": {
     "base_uri": "https://localhost:8080/",
     "height": 34
    },
    "colab_type": "code",
    "id": "RbPN2_8jfHIH",
    "outputId": "8ddd6d1c-64a8-4ec8-a3b0-f35038ec9381"
   },
   "outputs": [
    {
     "name": "stdout",
     "output_type": "stream",
     "text": [
      "(3,)\n"
     ]
    }
   ],
   "source": [
    "print(city_series.shape)"
   ]
  },
  {
   "cell_type": "code",
   "execution_count": 0,
   "metadata": {
    "colab": {
     "base_uri": "https://localhost:8080/",
     "height": 34
    },
    "colab_type": "code",
    "id": "L7ebjftwgA5U",
    "outputId": "746a2438-8700-45eb-a7a2-0c91cd0f0255"
   },
   "outputs": [
    {
     "name": "stdout",
     "output_type": "stream",
     "text": [
      "(3, 1)\n"
     ]
    }
   ],
   "source": [
    "print(city_dataframe.shape)"
   ]
  },
  {
   "cell_type": "code",
   "execution_count": 0,
   "metadata": {
    "colab": {
     "base_uri": "https://localhost:8080/",
     "height": 85
    },
    "colab_type": "code",
    "id": "mUNBtj7tgDhK",
    "outputId": "b9ac31e9-acc9-4197-8e1a-d96243107cc7"
   },
   "outputs": [
    {
     "name": "stdout",
     "output_type": "stream",
     "text": [
      "0     Delhi\n",
      "1    Mumbai\n",
      "2    Rahuri\n",
      "Name: 0, dtype: object\n"
     ]
    }
   ],
   "source": [
    "print(city_dataframe[0])"
   ]
  },
  {
   "cell_type": "code",
   "execution_count": 0,
   "metadata": {
    "colab": {
     "base_uri": "https://localhost:8080/",
     "height": 34
    },
    "colab_type": "code",
    "id": "yznPYq5egLiO",
    "outputId": "dff52082-68db-48c4-a748-4bbe77afd6ca"
   },
   "outputs": [
    {
     "name": "stdout",
     "output_type": "stream",
     "text": [
      "Delhi\n"
     ]
    }
   ],
   "source": [
    "print(city_series[0])"
   ]
  },
  {
   "cell_type": "markdown",
   "metadata": {
    "colab_type": "text",
    "id": "FkgUXKQThqGo"
   },
   "source": [
    "# Loading Data from CSV"
   ]
  },
  {
   "cell_type": "code",
   "execution_count": 0,
   "metadata": {
    "colab": {},
    "colab_type": "code",
    "id": "8mdZmCIrhwBX"
   },
   "outputs": [],
   "source": [
    "data = pd.read_csv('/content/rainfall.csv')"
   ]
  },
  {
   "cell_type": "code",
   "execution_count": 0,
   "metadata": {
    "colab": {
     "base_uri": "https://localhost:8080/",
     "height": 34
    },
    "colab_type": "code",
    "id": "znEL-121h4xS",
    "outputId": "6f2d594f-cf21-4e81-fd99-5254e294a10e"
   },
   "outputs": [
    {
     "name": "stdout",
     "output_type": "stream",
     "text": [
      "<class 'pandas.core.frame.DataFrame'>\n"
     ]
    }
   ],
   "source": [
    "print(type(data))"
   ]
  },
  {
   "cell_type": "code",
   "execution_count": 0,
   "metadata": {
    "colab": {
     "base_uri": "https://localhost:8080/",
     "height": 255
    },
    "colab_type": "code",
    "id": "W_j7TjZyh9Oc",
    "outputId": "4fad18b3-56d0-4b47-cb19-c0068a7abd33"
   },
   "outputs": [
    {
     "name": "stdout",
     "output_type": "stream",
     "text": [
      "                    SUBDIVISION  YEAR   JAN  ...  Mar-May  Jun-Sep  Oct-Dec\n",
      "0     ANDAMAN & NICOBAR ISLANDS  1901  49.2  ...    560.3   1696.3    980.3\n",
      "1     ANDAMAN & NICOBAR ISLANDS  1902   0.0  ...    458.3   2185.9    716.7\n",
      "2     ANDAMAN & NICOBAR ISLANDS  1903  12.7  ...    236.1   1874.0    690.6\n",
      "3     ANDAMAN & NICOBAR ISLANDS  1904   9.4  ...    506.9   1977.6    571.0\n",
      "4     ANDAMAN & NICOBAR ISLANDS  1905   1.3  ...    309.7   1624.9    630.8\n",
      "...                         ...   ...   ...  ...      ...      ...      ...\n",
      "4111                LAKSHADWEEP  2011   5.1  ...    196.2   1013.0    316.6\n",
      "4112                LAKSHADWEEP  2012  19.2  ...     99.6   1119.5    167.1\n",
      "4113                LAKSHADWEEP  2013  26.2  ...    131.1   1057.0    177.6\n",
      "4114                LAKSHADWEEP  2014  53.2  ...     76.7    958.5    290.5\n",
      "4115                LAKSHADWEEP  2015   2.2  ...    223.9    860.9    555.4\n",
      "\n",
      "[4116 rows x 19 columns]\n"
     ]
    }
   ],
   "source": [
    "print(data)"
   ]
  },
  {
   "cell_type": "code",
   "execution_count": 0,
   "metadata": {
    "colab": {
     "base_uri": "https://localhost:8080/",
     "height": 204
    },
    "colab_type": "code",
    "id": "y7XU_CDQiAfz",
    "outputId": "4ac2e94f-7e2f-449d-d13d-91939d2b757d"
   },
   "outputs": [
    {
     "data": {
      "text/html": [
       "<div>\n",
       "<style scoped>\n",
       "    .dataframe tbody tr th:only-of-type {\n",
       "        vertical-align: middle;\n",
       "    }\n",
       "\n",
       "    .dataframe tbody tr th {\n",
       "        vertical-align: top;\n",
       "    }\n",
       "\n",
       "    .dataframe thead th {\n",
       "        text-align: right;\n",
       "    }\n",
       "</style>\n",
       "<table border=\"1\" class=\"dataframe\">\n",
       "  <thead>\n",
       "    <tr style=\"text-align: right;\">\n",
       "      <th></th>\n",
       "      <th>SUBDIVISION</th>\n",
       "      <th>YEAR</th>\n",
       "      <th>JAN</th>\n",
       "      <th>FEB</th>\n",
       "      <th>MAR</th>\n",
       "      <th>APR</th>\n",
       "      <th>MAY</th>\n",
       "      <th>JUN</th>\n",
       "      <th>JUL</th>\n",
       "      <th>AUG</th>\n",
       "      <th>SEP</th>\n",
       "      <th>OCT</th>\n",
       "      <th>NOV</th>\n",
       "      <th>DEC</th>\n",
       "      <th>ANNUAL</th>\n",
       "      <th>Jan-Feb</th>\n",
       "      <th>Mar-May</th>\n",
       "      <th>Jun-Sep</th>\n",
       "      <th>Oct-Dec</th>\n",
       "    </tr>\n",
       "  </thead>\n",
       "  <tbody>\n",
       "    <tr>\n",
       "      <th>0</th>\n",
       "      <td>ANDAMAN &amp; NICOBAR ISLANDS</td>\n",
       "      <td>1901</td>\n",
       "      <td>49.2</td>\n",
       "      <td>87.1</td>\n",
       "      <td>29.2</td>\n",
       "      <td>2.3</td>\n",
       "      <td>528.8</td>\n",
       "      <td>517.5</td>\n",
       "      <td>365.1</td>\n",
       "      <td>481.1</td>\n",
       "      <td>332.6</td>\n",
       "      <td>388.5</td>\n",
       "      <td>558.2</td>\n",
       "      <td>33.6</td>\n",
       "      <td>3373.2</td>\n",
       "      <td>136.3</td>\n",
       "      <td>560.3</td>\n",
       "      <td>1696.3</td>\n",
       "      <td>980.3</td>\n",
       "    </tr>\n",
       "    <tr>\n",
       "      <th>1</th>\n",
       "      <td>ANDAMAN &amp; NICOBAR ISLANDS</td>\n",
       "      <td>1902</td>\n",
       "      <td>0.0</td>\n",
       "      <td>159.8</td>\n",
       "      <td>12.2</td>\n",
       "      <td>0.0</td>\n",
       "      <td>446.1</td>\n",
       "      <td>537.1</td>\n",
       "      <td>228.9</td>\n",
       "      <td>753.7</td>\n",
       "      <td>666.2</td>\n",
       "      <td>197.2</td>\n",
       "      <td>359.0</td>\n",
       "      <td>160.5</td>\n",
       "      <td>3520.7</td>\n",
       "      <td>159.8</td>\n",
       "      <td>458.3</td>\n",
       "      <td>2185.9</td>\n",
       "      <td>716.7</td>\n",
       "    </tr>\n",
       "    <tr>\n",
       "      <th>2</th>\n",
       "      <td>ANDAMAN &amp; NICOBAR ISLANDS</td>\n",
       "      <td>1903</td>\n",
       "      <td>12.7</td>\n",
       "      <td>144.0</td>\n",
       "      <td>0.0</td>\n",
       "      <td>1.0</td>\n",
       "      <td>235.1</td>\n",
       "      <td>479.9</td>\n",
       "      <td>728.4</td>\n",
       "      <td>326.7</td>\n",
       "      <td>339.0</td>\n",
       "      <td>181.2</td>\n",
       "      <td>284.4</td>\n",
       "      <td>225.0</td>\n",
       "      <td>2957.4</td>\n",
       "      <td>156.7</td>\n",
       "      <td>236.1</td>\n",
       "      <td>1874.0</td>\n",
       "      <td>690.6</td>\n",
       "    </tr>\n",
       "    <tr>\n",
       "      <th>3</th>\n",
       "      <td>ANDAMAN &amp; NICOBAR ISLANDS</td>\n",
       "      <td>1904</td>\n",
       "      <td>9.4</td>\n",
       "      <td>14.7</td>\n",
       "      <td>0.0</td>\n",
       "      <td>202.4</td>\n",
       "      <td>304.5</td>\n",
       "      <td>495.1</td>\n",
       "      <td>502.0</td>\n",
       "      <td>160.1</td>\n",
       "      <td>820.4</td>\n",
       "      <td>222.2</td>\n",
       "      <td>308.7</td>\n",
       "      <td>40.1</td>\n",
       "      <td>3079.6</td>\n",
       "      <td>24.1</td>\n",
       "      <td>506.9</td>\n",
       "      <td>1977.6</td>\n",
       "      <td>571.0</td>\n",
       "    </tr>\n",
       "    <tr>\n",
       "      <th>4</th>\n",
       "      <td>ANDAMAN &amp; NICOBAR ISLANDS</td>\n",
       "      <td>1905</td>\n",
       "      <td>1.3</td>\n",
       "      <td>0.0</td>\n",
       "      <td>3.3</td>\n",
       "      <td>26.9</td>\n",
       "      <td>279.5</td>\n",
       "      <td>628.7</td>\n",
       "      <td>368.7</td>\n",
       "      <td>330.5</td>\n",
       "      <td>297.0</td>\n",
       "      <td>260.7</td>\n",
       "      <td>25.4</td>\n",
       "      <td>344.7</td>\n",
       "      <td>2566.7</td>\n",
       "      <td>1.3</td>\n",
       "      <td>309.7</td>\n",
       "      <td>1624.9</td>\n",
       "      <td>630.8</td>\n",
       "    </tr>\n",
       "  </tbody>\n",
       "</table>\n",
       "</div>"
      ],
      "text/plain": [
       "                 SUBDIVISION  YEAR   JAN  ...  Mar-May  Jun-Sep  Oct-Dec\n",
       "0  ANDAMAN & NICOBAR ISLANDS  1901  49.2  ...    560.3   1696.3    980.3\n",
       "1  ANDAMAN & NICOBAR ISLANDS  1902   0.0  ...    458.3   2185.9    716.7\n",
       "2  ANDAMAN & NICOBAR ISLANDS  1903  12.7  ...    236.1   1874.0    690.6\n",
       "3  ANDAMAN & NICOBAR ISLANDS  1904   9.4  ...    506.9   1977.6    571.0\n",
       "4  ANDAMAN & NICOBAR ISLANDS  1905   1.3  ...    309.7   1624.9    630.8\n",
       "\n",
       "[5 rows x 19 columns]"
      ]
     },
     "execution_count": 171,
     "metadata": {
      "tags": []
     },
     "output_type": "execute_result"
    }
   ],
   "source": [
    "# print(data.head())\n",
    "data.head()"
   ]
  },
  {
   "cell_type": "code",
   "execution_count": 0,
   "metadata": {
    "colab": {
     "base_uri": "https://localhost:8080/",
     "height": 102
    },
    "colab_type": "code",
    "id": "wGHHclFziIdH",
    "outputId": "f4b90576-c66c-488d-da2d-bad6892ddf12"
   },
   "outputs": [
    {
     "name": "stdout",
     "output_type": "stream",
     "text": [
      "Index(['SUBDIVISION', 'YEAR', 'JAN', 'FEB', 'MAR', 'APR', 'MAY', 'JUN', 'JUL',\n",
      "       'AUG', 'SEP', 'OCT', 'NOV', 'DEC', 'ANNUAL', 'Jan-Feb', 'Mar-May',\n",
      "       'Jun-Sep', 'Oct-Dec'],\n",
      "      dtype='object')\n",
      "['SUBDIVISION', 'YEAR', 'JAN', 'FEB', 'MAR', 'APR', 'MAY', 'JUN', 'JUL', 'AUG', 'SEP', 'OCT', 'NOV', 'DEC', 'ANNUAL', 'Jan-Feb', 'Mar-May', 'Jun-Sep', 'Oct-Dec']\n"
     ]
    }
   ],
   "source": [
    "print(data.columns)\n",
    "col_name = list(data.columns)\n",
    "print(col_name)"
   ]
  },
  {
   "cell_type": "code",
   "execution_count": 0,
   "metadata": {
    "colab": {
     "base_uri": "https://localhost:8080/",
     "height": 238
    },
    "colab_type": "code",
    "id": "wCqqXasDibQc",
    "outputId": "c9c9c4b9-fbc3-4b55-ac55-42817f035a61"
   },
   "outputs": [
    {
     "name": "stdout",
     "output_type": "stream",
     "text": [
      "      SUBDIVISION  YEAR   JAN   FEB  ...  Jan-Feb  Mar-May  Jun-Sep  Oct-Dec\n",
      "4106  LAKSHADWEEP  2006  20.1   0.0  ...     20.1    361.2    928.4    288.9\n",
      "4107  LAKSHADWEEP  2007   2.5   4.2  ...      6.7    188.6   1753.0    413.3\n",
      "4108  LAKSHADWEEP  2008   5.5  19.8  ...     25.3    316.9    934.0    450.6\n",
      "4109  LAKSHADWEEP  2009   4.7   1.5  ...      6.2    180.3    997.7    385.9\n",
      "4110  LAKSHADWEEP  2010  18.8   0.0  ...     18.8    115.8   1152.2    438.4\n",
      "4111  LAKSHADWEEP  2011   5.1   2.8  ...      7.9    196.2   1013.0    316.6\n",
      "4112  LAKSHADWEEP  2012  19.2   0.1  ...     19.3     99.6   1119.5    167.1\n",
      "4113  LAKSHADWEEP  2013  26.2  34.4  ...     60.6    131.1   1057.0    177.6\n",
      "4114  LAKSHADWEEP  2014  53.2  16.1  ...     69.3     76.7    958.5    290.5\n",
      "4115  LAKSHADWEEP  2015   2.2   0.5  ...      2.7    223.9    860.9    555.4\n",
      "\n",
      "[10 rows x 19 columns]\n"
     ]
    }
   ],
   "source": [
    "print(data.tail(10))"
   ]
  },
  {
   "cell_type": "code",
   "execution_count": 0,
   "metadata": {
    "colab": {
     "base_uri": "https://localhost:8080/",
     "height": 34
    },
    "colab_type": "code",
    "id": "HRp1aOhKikUF",
    "outputId": "4b7ee4d3-3f2b-4c3b-f53e-959a72a8ec9a"
   },
   "outputs": [
    {
     "name": "stdout",
     "output_type": "stream",
     "text": [
      "(4116, 19)\n"
     ]
    }
   ],
   "source": [
    "print(data.shape)"
   ]
  },
  {
   "cell_type": "markdown",
   "metadata": {
    "colab_type": "text",
    "id": "-yU8rgpDi7kr"
   },
   "source": [
    "#Exploration of Data"
   ]
  },
  {
   "cell_type": "code",
   "execution_count": 0,
   "metadata": {
    "colab": {
     "base_uri": "https://localhost:8080/",
     "height": 476
    },
    "colab_type": "code",
    "id": "V8B0ktJvisTz",
    "outputId": "2c2116ed-9a61-4725-dd08-864adedd35a7"
   },
   "outputs": [
    {
     "name": "stdout",
     "output_type": "stream",
     "text": [
      "<class 'pandas.core.frame.DataFrame'>\n",
      "RangeIndex: 4116 entries, 0 to 4115\n",
      "Data columns (total 19 columns):\n",
      " #   Column       Non-Null Count  Dtype  \n",
      "---  ------       --------------  -----  \n",
      " 0   SUBDIVISION  4116 non-null   object \n",
      " 1   YEAR         4116 non-null   int64  \n",
      " 2   JAN          4112 non-null   float64\n",
      " 3   FEB          4113 non-null   float64\n",
      " 4   MAR          4110 non-null   float64\n",
      " 5   APR          4112 non-null   float64\n",
      " 6   MAY          4113 non-null   float64\n",
      " 7   JUN          4111 non-null   float64\n",
      " 8   JUL          4109 non-null   float64\n",
      " 9   AUG          4112 non-null   float64\n",
      " 10  SEP          4110 non-null   float64\n",
      " 11  OCT          4109 non-null   float64\n",
      " 12  NOV          4105 non-null   float64\n",
      " 13  DEC          4106 non-null   float64\n",
      " 14  ANNUAL       4090 non-null   float64\n",
      " 15  Jan-Feb      4110 non-null   float64\n",
      " 16  Mar-May      4107 non-null   float64\n",
      " 17  Jun-Sep      4106 non-null   float64\n",
      " 18  Oct-Dec      4103 non-null   float64\n",
      "dtypes: float64(17), int64(1), object(1)\n",
      "memory usage: 611.1+ KB\n",
      "None\n"
     ]
    }
   ],
   "source": [
    "print(data.info())"
   ]
  },
  {
   "cell_type": "code",
   "execution_count": 0,
   "metadata": {
    "colab": {
     "base_uri": "https://localhost:8080/",
     "height": 204
    },
    "colab_type": "code",
    "id": "ZUoXggdMi0lz",
    "outputId": "be0d98ef-6b71-4d82-9545-668638a3dbde"
   },
   "outputs": [
    {
     "name": "stdout",
     "output_type": "stream",
     "text": [
      "              YEAR          JAN  ...      Jun-Sep      Oct-Dec\n",
      "count  4116.000000  4112.000000  ...  4106.000000  4103.000000\n",
      "mean   1958.218659    18.957320  ...  1064.724769   154.100487\n",
      "std      33.140898    33.585371  ...   707.741531   166.942660\n",
      "min    1901.000000     0.000000  ...    57.400000     0.000000\n",
      "25%    1930.000000     0.600000  ...   573.850000    34.200000\n",
      "50%    1958.000000     6.000000  ...   881.100000    98.200000\n",
      "75%    1987.000000    22.200000  ...  1288.175000   213.500000\n",
      "max    2015.000000   583.700000  ...  4536.900000  1252.500000\n",
      "\n",
      "[8 rows x 18 columns]\n"
     ]
    }
   ],
   "source": [
    "print(data.describe())"
   ]
  },
  {
   "cell_type": "code",
   "execution_count": 0,
   "metadata": {
    "colab": {
     "base_uri": "https://localhost:8080/",
     "height": 170
    },
    "colab_type": "code",
    "id": "XL6q74L6mB2W",
    "outputId": "c8cf5187-fa2d-4ce7-8d3e-13948fd10c73"
   },
   "outputs": [
    {
     "data": {
      "text/plain": [
       "count    4112.000000\n",
       "mean       18.957320\n",
       "std        33.585371\n",
       "min         0.000000\n",
       "25%         0.600000\n",
       "50%         6.000000\n",
       "75%        22.200000\n",
       "max       583.700000\n",
       "Name: JAN, dtype: float64"
      ]
     },
     "execution_count": 92,
     "metadata": {
      "tags": []
     },
     "output_type": "execute_result"
    }
   ],
   "source": [
    "data['JAN'].describe()"
   ]
  },
  {
   "cell_type": "code",
   "execution_count": 0,
   "metadata": {
    "colab": {
     "base_uri": "https://localhost:8080/",
     "height": 170
    },
    "colab_type": "code",
    "id": "DWTkwQcdmMPe",
    "outputId": "9e4656f3-8d27-4791-9558-b1c5dac68887"
   },
   "outputs": [
    {
     "data": {
      "text/plain": [
       "count    4113.000000\n",
       "mean       85.745417\n",
       "std       123.234904\n",
       "min         0.000000\n",
       "25%         8.600000\n",
       "50%        36.600000\n",
       "75%        97.200000\n",
       "max      1168.600000\n",
       "Name: MAY, dtype: float64"
      ]
     },
     "execution_count": 93,
     "metadata": {
      "tags": []
     },
     "output_type": "execute_result"
    }
   ],
   "source": [
    "data['MAY'].describe()"
   ]
  },
  {
   "cell_type": "code",
   "execution_count": 0,
   "metadata": {
    "colab": {
     "base_uri": "https://localhost:8080/",
     "height": 102
    },
    "colab_type": "code",
    "id": "9IOK9mxRmWBA",
    "outputId": "42888ecb-f717-403b-f9ae-2f3cae9ff3ea"
   },
   "outputs": [
    {
     "data": {
      "text/plain": [
       "count      4116\n",
       "unique       36\n",
       "top       BIHAR\n",
       "freq        115\n",
       "Name: SUBDIVISION, dtype: object"
      ]
     },
     "execution_count": 94,
     "metadata": {
      "tags": []
     },
     "output_type": "execute_result"
    }
   ],
   "source": [
    "data['SUBDIVISION'].describe()"
   ]
  },
  {
   "cell_type": "code",
   "execution_count": 0,
   "metadata": {
    "colab": {
     "base_uri": "https://localhost:8080/",
     "height": 221
    },
    "colab_type": "code",
    "id": "dqzU4Nj1oDHs",
    "outputId": "8c0567ad-5bab-41c8-9fdb-f5c665cf7e8b"
   },
   "outputs": [
    {
     "data": {
      "text/plain": [
       "array(['ANDAMAN & NICOBAR ISLANDS', 'ARUNACHAL PRADESH',\n",
       "       'ASSAM & MEGHALAYA', 'NAGA MANI MIZO TRIPURA',\n",
       "       'SUB HIMALAYAN WEST BENGAL & SIKKIM', 'GANGETIC WEST BENGAL',\n",
       "       'ORISSA', 'JHARKHAND', 'BIHAR', 'EAST UTTAR PRADESH',\n",
       "       'WEST UTTAR PRADESH', 'UTTARAKHAND', 'HARYANA DELHI & CHANDIGARH',\n",
       "       'PUNJAB', 'HIMACHAL PRADESH', 'JAMMU & KASHMIR', 'WEST RAJASTHAN',\n",
       "       'EAST RAJASTHAN', 'WEST MADHYA PRADESH', 'EAST MADHYA PRADESH',\n",
       "       'GUJARAT REGION', 'SAURASHTRA & KUTCH', 'KONKAN & GOA',\n",
       "       'MADHYA MAHARASHTRA', 'MATATHWADA', 'VIDARBHA', 'CHHATTISGARH',\n",
       "       'COASTAL ANDHRA PRADESH', 'TELANGANA', 'RAYALSEEMA', 'TAMIL NADU',\n",
       "       'COASTAL KARNATAKA', 'NORTH INTERIOR KARNATAKA',\n",
       "       'SOUTH INTERIOR KARNATAKA', 'KERALA', 'LAKSHADWEEP'], dtype=object)"
      ]
     },
     "execution_count": 95,
     "metadata": {
      "tags": []
     },
     "output_type": "execute_result"
    }
   ],
   "source": [
    "data['SUBDIVISION'].unique()"
   ]
  },
  {
   "cell_type": "code",
   "execution_count": 0,
   "metadata": {
    "colab": {},
    "colab_type": "code",
    "id": "iWuOXwgFoGAB"
   },
   "outputs": [],
   "source": [
    "punjab_df = data[data['SUBDIVISION'] == \"PUNJAB\"]"
   ]
  },
  {
   "cell_type": "code",
   "execution_count": 0,
   "metadata": {
    "colab": {
     "base_uri": "https://localhost:8080/",
     "height": 204
    },
    "colab_type": "code",
    "id": "07VOL--gohDO",
    "outputId": "1c94e172-5076-4afb-fd56-53efc7c1951c"
   },
   "outputs": [
    {
     "data": {
      "text/html": [
       "<div>\n",
       "<style scoped>\n",
       "    .dataframe tbody tr th:only-of-type {\n",
       "        vertical-align: middle;\n",
       "    }\n",
       "\n",
       "    .dataframe tbody tr th {\n",
       "        vertical-align: top;\n",
       "    }\n",
       "\n",
       "    .dataframe thead th {\n",
       "        text-align: right;\n",
       "    }\n",
       "</style>\n",
       "<table border=\"1\" class=\"dataframe\">\n",
       "  <thead>\n",
       "    <tr style=\"text-align: right;\">\n",
       "      <th></th>\n",
       "      <th>SUBDIVISION</th>\n",
       "      <th>YEAR</th>\n",
       "      <th>JAN</th>\n",
       "      <th>FEB</th>\n",
       "      <th>MAR</th>\n",
       "      <th>APR</th>\n",
       "      <th>MAY</th>\n",
       "      <th>JUN</th>\n",
       "      <th>JUL</th>\n",
       "      <th>AUG</th>\n",
       "      <th>SEP</th>\n",
       "      <th>OCT</th>\n",
       "      <th>NOV</th>\n",
       "      <th>DEC</th>\n",
       "      <th>ANNUAL</th>\n",
       "      <th>Jan-Feb</th>\n",
       "      <th>Mar-May</th>\n",
       "      <th>Jun-Sep</th>\n",
       "      <th>Oct-Dec</th>\n",
       "    </tr>\n",
       "  </thead>\n",
       "  <tbody>\n",
       "    <tr>\n",
       "      <th>1472</th>\n",
       "      <td>PUNJAB</td>\n",
       "      <td>1901</td>\n",
       "      <td>55.7</td>\n",
       "      <td>50.1</td>\n",
       "      <td>25.2</td>\n",
       "      <td>2.1</td>\n",
       "      <td>25.2</td>\n",
       "      <td>10.4</td>\n",
       "      <td>178.2</td>\n",
       "      <td>145.0</td>\n",
       "      <td>24.4</td>\n",
       "      <td>3.7</td>\n",
       "      <td>0.0</td>\n",
       "      <td>3.3</td>\n",
       "      <td>523.5</td>\n",
       "      <td>105.9</td>\n",
       "      <td>52.5</td>\n",
       "      <td>358.1</td>\n",
       "      <td>7.0</td>\n",
       "    </tr>\n",
       "    <tr>\n",
       "      <th>1473</th>\n",
       "      <td>PUNJAB</td>\n",
       "      <td>1902</td>\n",
       "      <td>0.0</td>\n",
       "      <td>0.8</td>\n",
       "      <td>9.9</td>\n",
       "      <td>10.9</td>\n",
       "      <td>29.6</td>\n",
       "      <td>49.9</td>\n",
       "      <td>125.6</td>\n",
       "      <td>94.9</td>\n",
       "      <td>67.2</td>\n",
       "      <td>9.0</td>\n",
       "      <td>0.0</td>\n",
       "      <td>0.1</td>\n",
       "      <td>398.0</td>\n",
       "      <td>0.8</td>\n",
       "      <td>50.4</td>\n",
       "      <td>337.7</td>\n",
       "      <td>9.1</td>\n",
       "    </tr>\n",
       "    <tr>\n",
       "      <th>1474</th>\n",
       "      <td>PUNJAB</td>\n",
       "      <td>1903</td>\n",
       "      <td>29.5</td>\n",
       "      <td>0.5</td>\n",
       "      <td>45.0</td>\n",
       "      <td>1.3</td>\n",
       "      <td>9.2</td>\n",
       "      <td>5.2</td>\n",
       "      <td>212.2</td>\n",
       "      <td>119.1</td>\n",
       "      <td>132.5</td>\n",
       "      <td>6.9</td>\n",
       "      <td>0.0</td>\n",
       "      <td>9.5</td>\n",
       "      <td>571.0</td>\n",
       "      <td>29.9</td>\n",
       "      <td>55.5</td>\n",
       "      <td>469.1</td>\n",
       "      <td>16.4</td>\n",
       "    </tr>\n",
       "    <tr>\n",
       "      <th>1475</th>\n",
       "      <td>PUNJAB</td>\n",
       "      <td>1904</td>\n",
       "      <td>24.2</td>\n",
       "      <td>1.7</td>\n",
       "      <td>87.8</td>\n",
       "      <td>1.2</td>\n",
       "      <td>13.8</td>\n",
       "      <td>22.0</td>\n",
       "      <td>59.9</td>\n",
       "      <td>124.0</td>\n",
       "      <td>73.8</td>\n",
       "      <td>7.4</td>\n",
       "      <td>9.8</td>\n",
       "      <td>25.9</td>\n",
       "      <td>451.5</td>\n",
       "      <td>25.9</td>\n",
       "      <td>102.9</td>\n",
       "      <td>279.7</td>\n",
       "      <td>43.1</td>\n",
       "    </tr>\n",
       "    <tr>\n",
       "      <th>1476</th>\n",
       "      <td>PUNJAB</td>\n",
       "      <td>1905</td>\n",
       "      <td>53.0</td>\n",
       "      <td>40.3</td>\n",
       "      <td>24.3</td>\n",
       "      <td>0.5</td>\n",
       "      <td>2.2</td>\n",
       "      <td>19.2</td>\n",
       "      <td>122.6</td>\n",
       "      <td>50.3</td>\n",
       "      <td>111.1</td>\n",
       "      <td>1.2</td>\n",
       "      <td>0.0</td>\n",
       "      <td>9.4</td>\n",
       "      <td>434.3</td>\n",
       "      <td>93.3</td>\n",
       "      <td>27.0</td>\n",
       "      <td>303.2</td>\n",
       "      <td>10.7</td>\n",
       "    </tr>\n",
       "  </tbody>\n",
       "</table>\n",
       "</div>"
      ],
      "text/plain": [
       "     SUBDIVISION  YEAR   JAN   FEB  ...  Jan-Feb  Mar-May  Jun-Sep  Oct-Dec\n",
       "1472      PUNJAB  1901  55.7  50.1  ...    105.9     52.5    358.1      7.0\n",
       "1473      PUNJAB  1902   0.0   0.8  ...      0.8     50.4    337.7      9.1\n",
       "1474      PUNJAB  1903  29.5   0.5  ...     29.9     55.5    469.1     16.4\n",
       "1475      PUNJAB  1904  24.2   1.7  ...     25.9    102.9    279.7     43.1\n",
       "1476      PUNJAB  1905  53.0  40.3  ...     93.3     27.0    303.2     10.7\n",
       "\n",
       "[5 rows x 19 columns]"
      ]
     },
     "execution_count": 97,
     "metadata": {
      "tags": []
     },
     "output_type": "execute_result"
    }
   ],
   "source": [
    "punjab_df.head()"
   ]
  },
  {
   "cell_type": "code",
   "execution_count": 0,
   "metadata": {
    "colab": {
     "base_uri": "https://localhost:8080/",
     "height": 459
    },
    "colab_type": "code",
    "id": "XaFpeuMYoix9",
    "outputId": "a5e109a2-2e7f-4cbd-d957-9bfae4e398a0"
   },
   "outputs": [
    {
     "name": "stdout",
     "output_type": "stream",
     "text": [
      "<class 'pandas.core.frame.DataFrame'>\n",
      "Int64Index: 115 entries, 1472 to 1586\n",
      "Data columns (total 19 columns):\n",
      " #   Column       Non-Null Count  Dtype  \n",
      "---  ------       --------------  -----  \n",
      " 0   SUBDIVISION  115 non-null    object \n",
      " 1   YEAR         115 non-null    int64  \n",
      " 2   JAN          115 non-null    float64\n",
      " 3   FEB          115 non-null    float64\n",
      " 4   MAR          115 non-null    float64\n",
      " 5   APR          115 non-null    float64\n",
      " 6   MAY          115 non-null    float64\n",
      " 7   JUN          115 non-null    float64\n",
      " 8   JUL          115 non-null    float64\n",
      " 9   AUG          115 non-null    float64\n",
      " 10  SEP          115 non-null    float64\n",
      " 11  OCT          115 non-null    float64\n",
      " 12  NOV          115 non-null    float64\n",
      " 13  DEC          115 non-null    float64\n",
      " 14  ANNUAL       115 non-null    float64\n",
      " 15  Jan-Feb      115 non-null    float64\n",
      " 16  Mar-May      115 non-null    float64\n",
      " 17  Jun-Sep      115 non-null    float64\n",
      " 18  Oct-Dec      115 non-null    float64\n",
      "dtypes: float64(17), int64(1), object(1)\n",
      "memory usage: 18.0+ KB\n"
     ]
    }
   ],
   "source": [
    "punjab_df.info()"
   ]
  },
  {
   "cell_type": "code",
   "execution_count": 0,
   "metadata": {
    "colab": {
     "base_uri": "https://localhost:8080/",
     "height": 170
    },
    "colab_type": "code",
    "id": "CHVVtMHQonxv",
    "outputId": "8033927b-24d5-4015-8c85-66750a1bcaa9"
   },
   "outputs": [
    {
     "data": {
      "text/plain": [
       "count    115.000000\n",
       "mean      25.246087\n",
       "std       22.306656\n",
       "min        0.000000\n",
       "25%        7.250000\n",
       "50%       21.600000\n",
       "75%       36.100000\n",
       "max      112.100000\n",
       "Name: JAN, dtype: float64"
      ]
     },
     "execution_count": 99,
     "metadata": {
      "tags": []
     },
     "output_type": "execute_result"
    }
   ],
   "source": [
    "punjab_df['JAN'].describe()"
   ]
  },
  {
   "cell_type": "markdown",
   "metadata": {
    "colab_type": "text",
    "id": "WfnFnyli42hG"
   },
   "source": [
    "#Dealing with Null / Missing Values\n",
    "1. Python represent missing values as nan or null for missing value.\n",
    "2. Most of the scikit-learn will give you error if your model contains missing value.\n",
    "\n",
    "To Support handling misssing values Pandas support betow function:\n",
    "1. isnull(): Generate a boolean mask indicating missing values\n",
    "2. notnull(): Opposite of isnull()\n",
    "3. dropna(): Return a filtered version of the data\n",
    "4. fillna(): Return a copy of the data with missing values filled or imputed.\n"
   ]
  },
  {
   "cell_type": "code",
   "execution_count": 0,
   "metadata": {
    "colab": {
     "base_uri": "https://localhost:8080/",
     "height": 357
    },
    "colab_type": "code",
    "id": "Ioiy7fAD47kS",
    "outputId": "8f3dc508-0b13-4ea0-af03-df9eee26229b"
   },
   "outputs": [
    {
     "data": {
      "text/plain": [
       "SUBDIVISION    0.0\n",
       "YEAR           0.0\n",
       "JAN            0.0\n",
       "FEB            0.0\n",
       "MAR            0.0\n",
       "APR            0.0\n",
       "MAY            0.0\n",
       "JUN            0.0\n",
       "JUL            0.0\n",
       "AUG            0.0\n",
       "SEP            0.0\n",
       "OCT            0.0\n",
       "NOV            0.0\n",
       "DEC            0.0\n",
       "ANNUAL         0.0\n",
       "Jan-Feb        0.0\n",
       "Mar-May        0.0\n",
       "Jun-Sep        0.0\n",
       "Oct-Dec        0.0\n",
       "dtype: float64"
      ]
     },
     "execution_count": 100,
     "metadata": {
      "tags": []
     },
     "output_type": "execute_result"
    }
   ],
   "source": [
    "percent_missing = punjab_df.isnull().sum() * 100 / len(punjab_df)\n",
    "percent_missing"
   ]
  },
  {
   "cell_type": "markdown",
   "metadata": {
    "colab_type": "text",
    "id": "hMRzkFzpFZ9H"
   },
   "source": [
    "How to handle Missing Value columns\n",
    "1. First approach is to simply drop columns with Null values.\n",
    "2. Filling missing values.\n",
    "3. Predicting Missing values\n",
    "\n",
    "When to drop columns and when to fill missing values. Although there is no rule regarding that. But general guideline which i personally follow is more that \n",
    "30 percent of data is missing then i will simply drop the columns else i will .try to fill missing values."
   ]
  },
  {
   "cell_type": "code",
   "execution_count": 0,
   "metadata": {
    "colab": {
     "base_uri": "https://localhost:8080/",
     "height": 513
    },
    "colab_type": "code",
    "id": "qIa8lFkzDDD9",
    "outputId": "ab0587f6-1514-48ad-a11e-ba4a903fd96e"
   },
   "outputs": [
    {
     "data": {
      "text/html": [
       "<div>\n",
       "<style scoped>\n",
       "    .dataframe tbody tr th:only-of-type {\n",
       "        vertical-align: middle;\n",
       "    }\n",
       "\n",
       "    .dataframe tbody tr th {\n",
       "        vertical-align: top;\n",
       "    }\n",
       "\n",
       "    .dataframe thead th {\n",
       "        text-align: right;\n",
       "    }\n",
       "</style>\n",
       "<table border=\"1\" class=\"dataframe\">\n",
       "  <thead>\n",
       "    <tr style=\"text-align: right;\">\n",
       "      <th></th>\n",
       "      <th>PassengerId</th>\n",
       "      <th>Survived</th>\n",
       "      <th>Pclass</th>\n",
       "      <th>Name</th>\n",
       "      <th>Sex</th>\n",
       "      <th>Age</th>\n",
       "      <th>SibSp</th>\n",
       "      <th>Parch</th>\n",
       "      <th>Ticket</th>\n",
       "      <th>Fare</th>\n",
       "      <th>Cabin</th>\n",
       "      <th>Embarked</th>\n",
       "      <th>WikiId</th>\n",
       "      <th>Name_wiki</th>\n",
       "      <th>Age_wiki</th>\n",
       "      <th>Hometown</th>\n",
       "      <th>Boarded</th>\n",
       "      <th>Destination</th>\n",
       "      <th>Lifeboat</th>\n",
       "      <th>Body</th>\n",
       "      <th>Class</th>\n",
       "    </tr>\n",
       "  </thead>\n",
       "  <tbody>\n",
       "    <tr>\n",
       "      <th>0</th>\n",
       "      <td>1</td>\n",
       "      <td>0.0</td>\n",
       "      <td>3</td>\n",
       "      <td>Braund, Mr. Owen Harris</td>\n",
       "      <td>male</td>\n",
       "      <td>22.0</td>\n",
       "      <td>1</td>\n",
       "      <td>0</td>\n",
       "      <td>A/5 21171</td>\n",
       "      <td>7.2500</td>\n",
       "      <td>NaN</td>\n",
       "      <td>S</td>\n",
       "      <td>691.0</td>\n",
       "      <td>Braund, Mr. Owen Harris</td>\n",
       "      <td>22.0</td>\n",
       "      <td>Bridgerule, Devon, England</td>\n",
       "      <td>Southampton</td>\n",
       "      <td>Qu'Appelle Valley, Saskatchewan, Canada</td>\n",
       "      <td>NaN</td>\n",
       "      <td>NaN</td>\n",
       "      <td>3.0</td>\n",
       "    </tr>\n",
       "    <tr>\n",
       "      <th>1</th>\n",
       "      <td>2</td>\n",
       "      <td>1.0</td>\n",
       "      <td>1</td>\n",
       "      <td>Cumings, Mrs. John Bradley (Florence Briggs Th...</td>\n",
       "      <td>female</td>\n",
       "      <td>38.0</td>\n",
       "      <td>1</td>\n",
       "      <td>0</td>\n",
       "      <td>PC 17599</td>\n",
       "      <td>71.2833</td>\n",
       "      <td>C85</td>\n",
       "      <td>C</td>\n",
       "      <td>90.0</td>\n",
       "      <td>Cumings, Mrs. Florence Briggs (née Thayer)</td>\n",
       "      <td>35.0</td>\n",
       "      <td>New York, New York, US</td>\n",
       "      <td>Cherbourg</td>\n",
       "      <td>New York, New York, US</td>\n",
       "      <td>4</td>\n",
       "      <td>NaN</td>\n",
       "      <td>1.0</td>\n",
       "    </tr>\n",
       "    <tr>\n",
       "      <th>2</th>\n",
       "      <td>3</td>\n",
       "      <td>1.0</td>\n",
       "      <td>3</td>\n",
       "      <td>Heikkinen, Miss. Laina</td>\n",
       "      <td>female</td>\n",
       "      <td>26.0</td>\n",
       "      <td>0</td>\n",
       "      <td>0</td>\n",
       "      <td>STON/O2. 3101282</td>\n",
       "      <td>7.9250</td>\n",
       "      <td>NaN</td>\n",
       "      <td>S</td>\n",
       "      <td>865.0</td>\n",
       "      <td>Heikkinen, Miss Laina</td>\n",
       "      <td>26.0</td>\n",
       "      <td>Jyväskylä, Finland</td>\n",
       "      <td>Southampton</td>\n",
       "      <td>New York City</td>\n",
       "      <td>14?</td>\n",
       "      <td>NaN</td>\n",
       "      <td>3.0</td>\n",
       "    </tr>\n",
       "    <tr>\n",
       "      <th>3</th>\n",
       "      <td>4</td>\n",
       "      <td>1.0</td>\n",
       "      <td>1</td>\n",
       "      <td>Futrelle, Mrs. Jacques Heath (Lily May Peel)</td>\n",
       "      <td>female</td>\n",
       "      <td>35.0</td>\n",
       "      <td>1</td>\n",
       "      <td>0</td>\n",
       "      <td>113803</td>\n",
       "      <td>53.1000</td>\n",
       "      <td>C123</td>\n",
       "      <td>S</td>\n",
       "      <td>127.0</td>\n",
       "      <td>Futrelle, Mrs. Lily May (née Peel)</td>\n",
       "      <td>35.0</td>\n",
       "      <td>Scituate, Massachusetts, US</td>\n",
       "      <td>Southampton</td>\n",
       "      <td>Scituate, Massachusetts, US</td>\n",
       "      <td>D</td>\n",
       "      <td>NaN</td>\n",
       "      <td>1.0</td>\n",
       "    </tr>\n",
       "    <tr>\n",
       "      <th>4</th>\n",
       "      <td>5</td>\n",
       "      <td>0.0</td>\n",
       "      <td>3</td>\n",
       "      <td>Allen, Mr. William Henry</td>\n",
       "      <td>male</td>\n",
       "      <td>35.0</td>\n",
       "      <td>0</td>\n",
       "      <td>0</td>\n",
       "      <td>373450</td>\n",
       "      <td>8.0500</td>\n",
       "      <td>NaN</td>\n",
       "      <td>S</td>\n",
       "      <td>627.0</td>\n",
       "      <td>Allen, Mr. William Henry</td>\n",
       "      <td>35.0</td>\n",
       "      <td>Birmingham, West Midlands, England</td>\n",
       "      <td>Southampton</td>\n",
       "      <td>New York City</td>\n",
       "      <td>NaN</td>\n",
       "      <td>NaN</td>\n",
       "      <td>3.0</td>\n",
       "    </tr>\n",
       "  </tbody>\n",
       "</table>\n",
       "</div>"
      ],
      "text/plain": [
       "   PassengerId  Survived  Pclass  ... Lifeboat Body  Class\n",
       "0            1       0.0       3  ...      NaN  NaN    3.0\n",
       "1            2       1.0       1  ...        4  NaN    1.0\n",
       "2            3       1.0       3  ...      14?  NaN    3.0\n",
       "3            4       1.0       1  ...        D  NaN    1.0\n",
       "4            5       0.0       3  ...      NaN  NaN    3.0\n",
       "\n",
       "[5 rows x 21 columns]"
      ]
     },
     "execution_count": 101,
     "metadata": {
      "tags": []
     },
     "output_type": "execute_result"
    }
   ],
   "source": [
    "df= pd.read_csv('/content/titanic.csv')\n",
    "df.head()"
   ]
  },
  {
   "cell_type": "code",
   "execution_count": 0,
   "metadata": {
    "colab": {
     "base_uri": "https://localhost:8080/",
     "height": 391
    },
    "colab_type": "code",
    "id": "eBD9AG9UIb8W",
    "outputId": "58f0b79e-85f2-407e-a695-9c239ee8d945"
   },
   "outputs": [
    {
     "data": {
      "text/plain": [
       "PassengerId     0.000000\n",
       "Survived        0.000000\n",
       "Pclass          0.000000\n",
       "Name            0.000000\n",
       "Sex             0.000000\n",
       "Age            19.865320\n",
       "SibSp           0.000000\n",
       "Parch           0.000000\n",
       "Ticket          0.000000\n",
       "Fare            0.000000\n",
       "Cabin          77.104377\n",
       "Embarked        0.224467\n",
       "WikiId          0.224467\n",
       "Name_wiki       0.224467\n",
       "Age_wiki        0.448934\n",
       "Hometown        0.224467\n",
       "Boarded         0.224467\n",
       "Destination     0.224467\n",
       "Lifeboat       61.279461\n",
       "Body           90.235690\n",
       "Class           0.224467\n",
       "dtype: float64"
      ]
     },
     "execution_count": 102,
     "metadata": {
      "tags": []
     },
     "output_type": "execute_result"
    }
   ],
   "source": [
    "percent_missing = df.isnull().sum() * 100 / len(df)\n",
    "percent_missing"
   ]
  },
  {
   "cell_type": "code",
   "execution_count": 0,
   "metadata": {
    "colab": {},
    "colab_type": "code",
    "id": "Ca4VGNAfIsCG"
   },
   "outputs": [],
   "source": [
    "# Drop columns more than 30% of missing data\n",
    "col_to_drop = ['Cabin' ,'Lifeboat'  , 'Body']\n",
    "df= df.drop(col_to_drop , axis=1)"
   ]
  },
  {
   "cell_type": "code",
   "execution_count": 0,
   "metadata": {
    "colab": {
     "base_uri": "https://localhost:8080/",
     "height": 85
    },
    "colab_type": "code",
    "id": "9E9HP0CpJaMe",
    "outputId": "2929a8ac-3704-48d1-ef5c-e303c8881693"
   },
   "outputs": [
    {
     "data": {
      "text/plain": [
       "Index(['PassengerId', 'Survived', 'Pclass', 'Name', 'Sex', 'Age', 'SibSp',\n",
       "       'Parch', 'Ticket', 'Fare', 'Embarked', 'WikiId', 'Name_wiki',\n",
       "       'Age_wiki', 'Hometown', 'Boarded', 'Destination', 'Class'],\n",
       "      dtype='object')"
      ]
     },
     "execution_count": 104,
     "metadata": {
      "tags": []
     },
     "output_type": "execute_result"
    }
   ],
   "source": [
    "df.columns"
   ]
  },
  {
   "cell_type": "code",
   "execution_count": 0,
   "metadata": {
    "colab": {
     "base_uri": "https://localhost:8080/",
     "height": 442
    },
    "colab_type": "code",
    "id": "Gtl9pOTTJlBy",
    "outputId": "33a680cb-13e0-40f4-da94-899538bd355f"
   },
   "outputs": [
    {
     "name": "stdout",
     "output_type": "stream",
     "text": [
      "<class 'pandas.core.frame.DataFrame'>\n",
      "RangeIndex: 891 entries, 0 to 890\n",
      "Data columns (total 18 columns):\n",
      " #   Column       Non-Null Count  Dtype  \n",
      "---  ------       --------------  -----  \n",
      " 0   PassengerId  891 non-null    int64  \n",
      " 1   Survived     891 non-null    float64\n",
      " 2   Pclass       891 non-null    int64  \n",
      " 3   Name         891 non-null    object \n",
      " 4   Sex          891 non-null    object \n",
      " 5   Age          714 non-null    float64\n",
      " 6   SibSp        891 non-null    int64  \n",
      " 7   Parch        891 non-null    int64  \n",
      " 8   Ticket       891 non-null    object \n",
      " 9   Fare         891 non-null    float64\n",
      " 10  Embarked     889 non-null    object \n",
      " 11  WikiId       889 non-null    float64\n",
      " 12  Name_wiki    889 non-null    object \n",
      " 13  Age_wiki     887 non-null    float64\n",
      " 14  Hometown     889 non-null    object \n",
      " 15  Boarded      889 non-null    object \n",
      " 16  Destination  889 non-null    object \n",
      " 17  Class        889 non-null    float64\n",
      "dtypes: float64(6), int64(4), object(8)\n",
      "memory usage: 125.4+ KB\n"
     ]
    }
   ],
   "source": [
    "# Filling Null values\n",
    "df.info()\n"
   ]
  },
  {
   "cell_type": "markdown",
   "metadata": {
    "colab_type": "text",
    "id": "lGbhH9g5KXGu"
   },
   "source": []
  },
  {
   "cell_type": "code",
   "execution_count": 0,
   "metadata": {
    "colab": {
     "base_uri": "https://localhost:8080/",
     "height": 170
    },
    "colab_type": "code",
    "id": "-hu4HfLnKjH4",
    "outputId": "3763236e-614a-402d-ff85-954f8e03ecda"
   },
   "outputs": [
    {
     "data": {
      "text/plain": [
       "count    714.000000\n",
       "mean      29.699118\n",
       "std       14.526497\n",
       "min        0.420000\n",
       "25%       20.125000\n",
       "50%       28.000000\n",
       "75%       38.000000\n",
       "max       80.000000\n",
       "Name: Age, dtype: float64"
      ]
     },
     "execution_count": 106,
     "metadata": {
      "tags": []
     },
     "output_type": "execute_result"
    }
   ],
   "source": [
    "# df['Age'].mean()\n",
    "df['Age'].describe()"
   ]
  },
  {
   "cell_type": "code",
   "execution_count": 0,
   "metadata": {
    "colab": {},
    "colab_type": "code",
    "id": "0nj1vNgxLR40"
   },
   "outputs": [],
   "source": [
    "# Now filling Age with mean value\n",
    "df['Age'].fillna(df['Age'].mean() , inplace = True)\n"
   ]
  },
  {
   "cell_type": "code",
   "execution_count": 0,
   "metadata": {
    "colab": {
     "base_uri": "https://localhost:8080/",
     "height": 340
    },
    "colab_type": "code",
    "id": "1EHtNRjGLsbf",
    "outputId": "eaaa9355-ee18-4a8d-9e44-0c03fe936058"
   },
   "outputs": [
    {
     "data": {
      "text/plain": [
       "PassengerId    0.000000\n",
       "Survived       0.000000\n",
       "Pclass         0.000000\n",
       "Name           0.000000\n",
       "Sex            0.000000\n",
       "Age            0.000000\n",
       "SibSp          0.000000\n",
       "Parch          0.000000\n",
       "Ticket         0.000000\n",
       "Fare           0.000000\n",
       "Embarked       0.224467\n",
       "WikiId         0.224467\n",
       "Name_wiki      0.224467\n",
       "Age_wiki       0.448934\n",
       "Hometown       0.224467\n",
       "Boarded        0.224467\n",
       "Destination    0.224467\n",
       "Class          0.224467\n",
       "dtype: float64"
      ]
     },
     "execution_count": 108,
     "metadata": {
      "tags": []
     },
     "output_type": "execute_result"
    }
   ],
   "source": [
    "percent_missing = df.isnull().sum() * 100 / len(df)\n",
    "percent_missing"
   ]
  },
  {
   "cell_type": "markdown",
   "metadata": {
    "colab_type": "text",
    "id": "CeUFBfvXL06b"
   },
   "source": [
    "Excercise : If the sex is Male , fill age with mean of male ,for female fill mean of female."
   ]
  },
  {
   "cell_type": "code",
   "execution_count": 0,
   "metadata": {
    "colab": {
     "base_uri": "https://localhost:8080/",
     "height": 34
    },
    "colab_type": "code",
    "id": "a79Vi4raMeNH",
    "outputId": "d0a0f009-b525-4164-959d-d2151fc7f2d0"
   },
   "outputs": [
    {
     "data": {
      "text/plain": [
       "array(['S', 'C', 'Q', nan], dtype=object)"
      ]
     },
     "execution_count": 109,
     "metadata": {
      "tags": []
     },
     "output_type": "execute_result"
    }
   ],
   "source": [
    "df['Embarked'].unique()\n",
    "# Embarked is categorical value . so we can replace nan with MODE"
   ]
  },
  {
   "cell_type": "code",
   "execution_count": 0,
   "metadata": {
    "colab": {
     "base_uri": "https://localhost:8080/",
     "height": 51
    },
    "colab_type": "code",
    "id": "2AE7aRk4NA6G",
    "outputId": "b79b199f-b1eb-4949-e416-6b95c05a558f"
   },
   "outputs": [
    {
     "data": {
      "text/plain": [
       "0    S\n",
       "dtype: object"
      ]
     },
     "execution_count": 110,
     "metadata": {
      "tags": []
     },
     "output_type": "execute_result"
    }
   ],
   "source": [
    "df['Embarked'].mode()"
   ]
  },
  {
   "cell_type": "code",
   "execution_count": 0,
   "metadata": {
    "colab": {},
    "colab_type": "code",
    "id": "rBLKAxM3NGWp"
   },
   "outputs": [],
   "source": [
    "df['Embarked'].fillna(df['Embarked'].mode()[0] , inplace = True)"
   ]
  },
  {
   "cell_type": "code",
   "execution_count": 0,
   "metadata": {
    "colab": {
     "base_uri": "https://localhost:8080/",
     "height": 340
    },
    "colab_type": "code",
    "id": "Ousjlv2nNbvT",
    "outputId": "6f37bd36-6a9e-4642-faf9-948627425494"
   },
   "outputs": [
    {
     "data": {
      "text/plain": [
       "PassengerId    0.000000\n",
       "Survived       0.000000\n",
       "Pclass         0.000000\n",
       "Name           0.000000\n",
       "Sex            0.000000\n",
       "Age            0.000000\n",
       "SibSp          0.000000\n",
       "Parch          0.000000\n",
       "Ticket         0.000000\n",
       "Fare           0.000000\n",
       "Embarked       0.000000\n",
       "WikiId         0.224467\n",
       "Name_wiki      0.224467\n",
       "Age_wiki       0.448934\n",
       "Hometown       0.224467\n",
       "Boarded        0.224467\n",
       "Destination    0.224467\n",
       "Class          0.224467\n",
       "dtype: float64"
      ]
     },
     "execution_count": 112,
     "metadata": {
      "tags": []
     },
     "output_type": "execute_result"
    }
   ],
   "source": [
    "percent_missing = df.isnull().sum() * 100 / len(df)\n",
    "percent_missing"
   ]
  },
  {
   "cell_type": "markdown",
   "metadata": {
    "colab_type": "text",
    "id": "yuVFy67EN0UN"
   },
   "source": [
    "Excercise :Fill nan values for other columns."
   ]
  },
  {
   "cell_type": "markdown",
   "metadata": {
    "colab_type": "text",
    "id": "OXhOfcbNpkk-"
   },
   "source": [
    "#Highest Rainfall Year "
   ]
  },
  {
   "cell_type": "code",
   "execution_count": 0,
   "metadata": {
    "colab": {},
    "colab_type": "code",
    "id": "ITM2LTpjo0AZ"
   },
   "outputs": [],
   "source": [
    "top_yr_punjab = punjab_df.nlargest(5,'ANNUAL')"
   ]
  },
  {
   "cell_type": "code",
   "execution_count": 0,
   "metadata": {
    "colab": {
     "base_uri": "https://localhost:8080/",
     "height": 204
    },
    "colab_type": "code",
    "id": "HF38Xl0jpCPu",
    "outputId": "decfb017-ec9e-47c0-b730-a9547ba67c72"
   },
   "outputs": [
    {
     "data": {
      "text/html": [
       "<div>\n",
       "<style scoped>\n",
       "    .dataframe tbody tr th:only-of-type {\n",
       "        vertical-align: middle;\n",
       "    }\n",
       "\n",
       "    .dataframe tbody tr th {\n",
       "        vertical-align: top;\n",
       "    }\n",
       "\n",
       "    .dataframe thead th {\n",
       "        text-align: right;\n",
       "    }\n",
       "</style>\n",
       "<table border=\"1\" class=\"dataframe\">\n",
       "  <thead>\n",
       "    <tr style=\"text-align: right;\">\n",
       "      <th></th>\n",
       "      <th>SUBDIVISION</th>\n",
       "      <th>YEAR</th>\n",
       "      <th>JAN</th>\n",
       "      <th>FEB</th>\n",
       "      <th>MAR</th>\n",
       "      <th>APR</th>\n",
       "      <th>MAY</th>\n",
       "      <th>JUN</th>\n",
       "      <th>JUL</th>\n",
       "      <th>AUG</th>\n",
       "      <th>SEP</th>\n",
       "      <th>OCT</th>\n",
       "      <th>NOV</th>\n",
       "      <th>DEC</th>\n",
       "      <th>ANNUAL</th>\n",
       "      <th>Jan-Feb</th>\n",
       "      <th>Mar-May</th>\n",
       "      <th>Jun-Sep</th>\n",
       "      <th>Oct-Dec</th>\n",
       "    </tr>\n",
       "  </thead>\n",
       "  <tbody>\n",
       "    <tr>\n",
       "      <th>1559</th>\n",
       "      <td>PUNJAB</td>\n",
       "      <td>1988</td>\n",
       "      <td>5.0</td>\n",
       "      <td>22.5</td>\n",
       "      <td>86.4</td>\n",
       "      <td>3.3</td>\n",
       "      <td>3.6</td>\n",
       "      <td>42.7</td>\n",
       "      <td>356.1</td>\n",
       "      <td>234.3</td>\n",
       "      <td>434.1</td>\n",
       "      <td>0.4</td>\n",
       "      <td>0.7</td>\n",
       "      <td>33.5</td>\n",
       "      <td>1222.6</td>\n",
       "      <td>27.5</td>\n",
       "      <td>93.3</td>\n",
       "      <td>1067.2</td>\n",
       "      <td>34.6</td>\n",
       "    </tr>\n",
       "    <tr>\n",
       "      <th>1488</th>\n",
       "      <td>PUNJAB</td>\n",
       "      <td>1917</td>\n",
       "      <td>6.5</td>\n",
       "      <td>3.1</td>\n",
       "      <td>12.5</td>\n",
       "      <td>71.9</td>\n",
       "      <td>31.3</td>\n",
       "      <td>82.6</td>\n",
       "      <td>172.4</td>\n",
       "      <td>211.4</td>\n",
       "      <td>369.1</td>\n",
       "      <td>156.5</td>\n",
       "      <td>0.0</td>\n",
       "      <td>9.4</td>\n",
       "      <td>1126.7</td>\n",
       "      <td>9.6</td>\n",
       "      <td>115.7</td>\n",
       "      <td>835.5</td>\n",
       "      <td>165.9</td>\n",
       "    </tr>\n",
       "    <tr>\n",
       "      <th>1521</th>\n",
       "      <td>PUNJAB</td>\n",
       "      <td>1950</td>\n",
       "      <td>53.1</td>\n",
       "      <td>25.4</td>\n",
       "      <td>50.1</td>\n",
       "      <td>2.4</td>\n",
       "      <td>8.1</td>\n",
       "      <td>14.1</td>\n",
       "      <td>209.2</td>\n",
       "      <td>232.3</td>\n",
       "      <td>396.8</td>\n",
       "      <td>0.4</td>\n",
       "      <td>0.0</td>\n",
       "      <td>0.1</td>\n",
       "      <td>992.0</td>\n",
       "      <td>78.5</td>\n",
       "      <td>60.5</td>\n",
       "      <td>852.4</td>\n",
       "      <td>0.6</td>\n",
       "    </tr>\n",
       "    <tr>\n",
       "      <th>1526</th>\n",
       "      <td>PUNJAB</td>\n",
       "      <td>1955</td>\n",
       "      <td>33.0</td>\n",
       "      <td>3.6</td>\n",
       "      <td>24.9</td>\n",
       "      <td>20.5</td>\n",
       "      <td>18.6</td>\n",
       "      <td>38.0</td>\n",
       "      <td>148.7</td>\n",
       "      <td>169.7</td>\n",
       "      <td>144.2</td>\n",
       "      <td>370.3</td>\n",
       "      <td>0.0</td>\n",
       "      <td>2.6</td>\n",
       "      <td>973.9</td>\n",
       "      <td>36.5</td>\n",
       "      <td>64.0</td>\n",
       "      <td>500.6</td>\n",
       "      <td>372.8</td>\n",
       "    </tr>\n",
       "    <tr>\n",
       "      <th>1513</th>\n",
       "      <td>PUNJAB</td>\n",
       "      <td>1942</td>\n",
       "      <td>27.2</td>\n",
       "      <td>57.2</td>\n",
       "      <td>15.4</td>\n",
       "      <td>19.6</td>\n",
       "      <td>13.4</td>\n",
       "      <td>52.4</td>\n",
       "      <td>253.3</td>\n",
       "      <td>256.4</td>\n",
       "      <td>131.7</td>\n",
       "      <td>5.1</td>\n",
       "      <td>0.0</td>\n",
       "      <td>39.8</td>\n",
       "      <td>871.6</td>\n",
       "      <td>84.4</td>\n",
       "      <td>48.4</td>\n",
       "      <td>693.9</td>\n",
       "      <td>44.9</td>\n",
       "    </tr>\n",
       "  </tbody>\n",
       "</table>\n",
       "</div>"
      ],
      "text/plain": [
       "     SUBDIVISION  YEAR   JAN   FEB  ...  Jan-Feb  Mar-May  Jun-Sep  Oct-Dec\n",
       "1559      PUNJAB  1988   5.0  22.5  ...     27.5     93.3   1067.2     34.6\n",
       "1488      PUNJAB  1917   6.5   3.1  ...      9.6    115.7    835.5    165.9\n",
       "1521      PUNJAB  1950  53.1  25.4  ...     78.5     60.5    852.4      0.6\n",
       "1526      PUNJAB  1955  33.0   3.6  ...     36.5     64.0    500.6    372.8\n",
       "1513      PUNJAB  1942  27.2  57.2  ...     84.4     48.4    693.9     44.9\n",
       "\n",
       "[5 rows x 19 columns]"
      ]
     },
     "execution_count": 114,
     "metadata": {
      "tags": []
     },
     "output_type": "execute_result"
    }
   ],
   "source": [
    "top_yr_punjab"
   ]
  },
  {
   "cell_type": "markdown",
   "metadata": {
    "colab_type": "text",
    "id": "G8zdFYJLEdRy"
   },
   "source": [
    "#Lowest Rainfall Year"
   ]
  },
  {
   "cell_type": "code",
   "execution_count": 0,
   "metadata": {
    "colab": {},
    "colab_type": "code",
    "id": "ETyaNYR7EHHm"
   },
   "outputs": [],
   "source": [
    "low_yr_punjab =punjab_df.nsmallest(5 ,'ANNUAL')"
   ]
  },
  {
   "cell_type": "code",
   "execution_count": 0,
   "metadata": {
    "colab": {
     "base_uri": "https://localhost:8080/",
     "height": 34
    },
    "colab_type": "code",
    "id": "fkdDtCyp0X_y",
    "outputId": "3efacc6c-252d-4e14-b656-fa67a31b6632"
   },
   "outputs": [
    {
     "data": {
      "text/plain": [
       "593.5356521739129"
      ]
     },
     "execution_count": 116,
     "metadata": {
      "tags": []
     },
     "output_type": "execute_result"
    }
   ],
   "source": [
    "punjab_df['ANNUAL'].mean()"
   ]
  },
  {
   "cell_type": "code",
   "execution_count": 0,
   "metadata": {
    "colab": {
     "base_uri": "https://localhost:8080/",
     "height": 204
    },
    "colab_type": "code",
    "id": "m4VuW_maEW8a",
    "outputId": "9e41e397-2699-4134-96f7-43679f3d6fe2"
   },
   "outputs": [
    {
     "data": {
      "text/html": [
       "<div>\n",
       "<style scoped>\n",
       "    .dataframe tbody tr th:only-of-type {\n",
       "        vertical-align: middle;\n",
       "    }\n",
       "\n",
       "    .dataframe tbody tr th {\n",
       "        vertical-align: top;\n",
       "    }\n",
       "\n",
       "    .dataframe thead th {\n",
       "        text-align: right;\n",
       "    }\n",
       "</style>\n",
       "<table border=\"1\" class=\"dataframe\">\n",
       "  <thead>\n",
       "    <tr style=\"text-align: right;\">\n",
       "      <th></th>\n",
       "      <th>SUBDIVISION</th>\n",
       "      <th>YEAR</th>\n",
       "      <th>JAN</th>\n",
       "      <th>FEB</th>\n",
       "      <th>MAR</th>\n",
       "      <th>APR</th>\n",
       "      <th>MAY</th>\n",
       "      <th>JUN</th>\n",
       "      <th>JUL</th>\n",
       "      <th>AUG</th>\n",
       "      <th>SEP</th>\n",
       "      <th>OCT</th>\n",
       "      <th>NOV</th>\n",
       "      <th>DEC</th>\n",
       "      <th>ANNUAL</th>\n",
       "      <th>Jan-Feb</th>\n",
       "      <th>Mar-May</th>\n",
       "      <th>Jun-Sep</th>\n",
       "      <th>Oct-Dec</th>\n",
       "    </tr>\n",
       "  </thead>\n",
       "  <tbody>\n",
       "    <tr>\n",
       "      <th>1573</th>\n",
       "      <td>PUNJAB</td>\n",
       "      <td>2002</td>\n",
       "      <td>2.4</td>\n",
       "      <td>6.6</td>\n",
       "      <td>6.8</td>\n",
       "      <td>3.3</td>\n",
       "      <td>20.8</td>\n",
       "      <td>24.7</td>\n",
       "      <td>50.4</td>\n",
       "      <td>58.4</td>\n",
       "      <td>95.0</td>\n",
       "      <td>2.6</td>\n",
       "      <td>0.0</td>\n",
       "      <td>3.7</td>\n",
       "      <td>274.7</td>\n",
       "      <td>9.0</td>\n",
       "      <td>31.0</td>\n",
       "      <td>228.4</td>\n",
       "      <td>6.3</td>\n",
       "    </tr>\n",
       "    <tr>\n",
       "      <th>1489</th>\n",
       "      <td>PUNJAB</td>\n",
       "      <td>1918</td>\n",
       "      <td>3.1</td>\n",
       "      <td>1.2</td>\n",
       "      <td>61.4</td>\n",
       "      <td>38.5</td>\n",
       "      <td>0.6</td>\n",
       "      <td>31.9</td>\n",
       "      <td>38.7</td>\n",
       "      <td>140.5</td>\n",
       "      <td>15.5</td>\n",
       "      <td>0.2</td>\n",
       "      <td>3.5</td>\n",
       "      <td>4.5</td>\n",
       "      <td>339.6</td>\n",
       "      <td>4.4</td>\n",
       "      <td>100.5</td>\n",
       "      <td>226.5</td>\n",
       "      <td>8.3</td>\n",
       "    </tr>\n",
       "    <tr>\n",
       "      <th>1575</th>\n",
       "      <td>PUNJAB</td>\n",
       "      <td>2004</td>\n",
       "      <td>32.4</td>\n",
       "      <td>5.7</td>\n",
       "      <td>0.0</td>\n",
       "      <td>15.5</td>\n",
       "      <td>27.2</td>\n",
       "      <td>48.8</td>\n",
       "      <td>52.1</td>\n",
       "      <td>124.2</td>\n",
       "      <td>8.9</td>\n",
       "      <td>31.2</td>\n",
       "      <td>0.8</td>\n",
       "      <td>5.0</td>\n",
       "      <td>351.7</td>\n",
       "      <td>38.0</td>\n",
       "      <td>42.7</td>\n",
       "      <td>234.0</td>\n",
       "      <td>37.0</td>\n",
       "    </tr>\n",
       "    <tr>\n",
       "      <th>1545</th>\n",
       "      <td>PUNJAB</td>\n",
       "      <td>1974</td>\n",
       "      <td>3.2</td>\n",
       "      <td>2.0</td>\n",
       "      <td>3.1</td>\n",
       "      <td>1.3</td>\n",
       "      <td>6.9</td>\n",
       "      <td>71.0</td>\n",
       "      <td>136.7</td>\n",
       "      <td>101.3</td>\n",
       "      <td>14.4</td>\n",
       "      <td>0.6</td>\n",
       "      <td>0.0</td>\n",
       "      <td>15.8</td>\n",
       "      <td>356.2</td>\n",
       "      <td>5.1</td>\n",
       "      <td>11.3</td>\n",
       "      <td>323.4</td>\n",
       "      <td>16.3</td>\n",
       "    </tr>\n",
       "    <tr>\n",
       "      <th>1580</th>\n",
       "      <td>PUNJAB</td>\n",
       "      <td>2009</td>\n",
       "      <td>9.4</td>\n",
       "      <td>14.4</td>\n",
       "      <td>10.5</td>\n",
       "      <td>14.0</td>\n",
       "      <td>5.6</td>\n",
       "      <td>10.6</td>\n",
       "      <td>158.0</td>\n",
       "      <td>76.8</td>\n",
       "      <td>54.7</td>\n",
       "      <td>4.0</td>\n",
       "      <td>2.7</td>\n",
       "      <td>0.4</td>\n",
       "      <td>361.2</td>\n",
       "      <td>23.9</td>\n",
       "      <td>30.1</td>\n",
       "      <td>300.1</td>\n",
       "      <td>7.1</td>\n",
       "    </tr>\n",
       "  </tbody>\n",
       "</table>\n",
       "</div>"
      ],
      "text/plain": [
       "     SUBDIVISION  YEAR   JAN   FEB  ...  Jan-Feb  Mar-May  Jun-Sep  Oct-Dec\n",
       "1573      PUNJAB  2002   2.4   6.6  ...      9.0     31.0    228.4      6.3\n",
       "1489      PUNJAB  1918   3.1   1.2  ...      4.4    100.5    226.5      8.3\n",
       "1575      PUNJAB  2004  32.4   5.7  ...     38.0     42.7    234.0     37.0\n",
       "1545      PUNJAB  1974   3.2   2.0  ...      5.1     11.3    323.4     16.3\n",
       "1580      PUNJAB  2009   9.4  14.4  ...     23.9     30.1    300.1      7.1\n",
       "\n",
       "[5 rows x 19 columns]"
      ]
     },
     "execution_count": 117,
     "metadata": {
      "tags": []
     },
     "output_type": "execute_result"
    }
   ],
   "source": [
    "low_yr_punjab"
   ]
  },
  {
   "cell_type": "markdown",
   "metadata": {
    "colab_type": "text",
    "id": "UIDNclTVEnBI"
   },
   "source": [
    "Excercise :Now Try out this with Some Other States."
   ]
  },
  {
   "cell_type": "code",
   "execution_count": 0,
   "metadata": {
    "colab": {},
    "colab_type": "code",
    "id": "wgxypCf2EYAf"
   },
   "outputs": [],
   "source": [
    "# Let say you want add a new column lowest rainfall month in a year\n",
    "month = ['JAN' ,'FEB' ,'MAR' , 'APR', 'MAY' , 'JUN' ,'JUL' ,'AUG' , 'SEP' , 'OCT' ,'NOV' ,'DEC' ]\n",
    "temp_minmonth= punjab_df[month].idxmin(axis=1)\n",
    "temp_maxmonth = punjab_df[month].idxmax(axis= 1)\n",
    "\n",
    "\n"
   ]
  },
  {
   "cell_type": "code",
   "execution_count": 0,
   "metadata": {
    "colab": {
     "base_uri": "https://localhost:8080/",
     "height": 221
    },
    "colab_type": "code",
    "id": "1NGjpG93HCar",
    "outputId": "ed7f79b1-de68-4c90-cb27-49da47ca81f2"
   },
   "outputs": [
    {
     "name": "stdout",
     "output_type": "stream",
     "text": [
      "1472    NOV\n",
      "1473    JAN\n",
      "1474    NOV\n",
      "1475    APR\n",
      "1476    NOV\n",
      "       ... \n",
      "1582    OCT\n",
      "1583    NOV\n",
      "1584    APR\n",
      "1585    NOV\n",
      "1586    DEC\n",
      "Length: 115, dtype: object\n"
     ]
    }
   ],
   "source": [
    "print(temp_minmonth)"
   ]
  },
  {
   "cell_type": "code",
   "execution_count": 0,
   "metadata": {
    "colab": {
     "base_uri": "https://localhost:8080/",
     "height": 221
    },
    "colab_type": "code",
    "id": "9fqE_ey5Hw6C",
    "outputId": "ad189784-083e-4bb8-c186-7a0430662d6f"
   },
   "outputs": [
    {
     "name": "stdout",
     "output_type": "stream",
     "text": [
      "1472    JUL\n",
      "1473    JUL\n",
      "1474    JUL\n",
      "1475    AUG\n",
      "1476    JUL\n",
      "       ... \n",
      "1582    AUG\n",
      "1583    AUG\n",
      "1584    AUG\n",
      "1585    SEP\n",
      "1586    JUL\n",
      "Length: 115, dtype: object\n"
     ]
    }
   ],
   "source": [
    "print(temp_maxmonth)"
   ]
  },
  {
   "cell_type": "markdown",
   "metadata": {
    "colab_type": "text",
    "id": "Xe8y-FUKJLC_"
   },
   "source": [
    "#Now add this info in the Punjab Dataframe. Adding a new column in punjab dataframe."
   ]
  },
  {
   "cell_type": "code",
   "execution_count": 0,
   "metadata": {
    "colab": {
     "base_uri": "https://localhost:8080/",
     "height": 221
    },
    "colab_type": "code",
    "id": "dMrl9g_sI0-S",
    "outputId": "1dab3d0f-a4bc-4ed4-e5ec-a07ac4fe80aa"
   },
   "outputs": [
    {
     "name": "stderr",
     "output_type": "stream",
     "text": [
      "/usr/local/lib/python3.6/dist-packages/ipykernel_launcher.py:1: SettingWithCopyWarning: \n",
      "A value is trying to be set on a copy of a slice from a DataFrame.\n",
      "Try using .loc[row_indexer,col_indexer] = value instead\n",
      "\n",
      "See the caveats in the documentation: https://pandas.pydata.org/pandas-docs/stable/user_guide/indexing.html#returning-a-view-versus-a-copy\n",
      "  \"\"\"Entry point for launching an IPython kernel.\n",
      "/usr/local/lib/python3.6/dist-packages/ipykernel_launcher.py:2: SettingWithCopyWarning: \n",
      "A value is trying to be set on a copy of a slice from a DataFrame.\n",
      "Try using .loc[row_indexer,col_indexer] = value instead\n",
      "\n",
      "See the caveats in the documentation: https://pandas.pydata.org/pandas-docs/stable/user_guide/indexing.html#returning-a-view-versus-a-copy\n",
      "  \n"
     ]
    }
   ],
   "source": [
    "punjab_df['min_rainfall_month'] = temp_minmonth\n",
    "punjab_df['max_rainfall_month'] = temp_maxmonth"
   ]
  },
  {
   "cell_type": "code",
   "execution_count": 0,
   "metadata": {
    "colab": {
     "base_uri": "https://localhost:8080/",
     "height": 204
    },
    "colab_type": "code",
    "id": "43kWT2TgJslT",
    "outputId": "4d831750-2fe3-4385-8da6-7876e284e1ef"
   },
   "outputs": [
    {
     "data": {
      "text/html": [
       "<div>\n",
       "<style scoped>\n",
       "    .dataframe tbody tr th:only-of-type {\n",
       "        vertical-align: middle;\n",
       "    }\n",
       "\n",
       "    .dataframe tbody tr th {\n",
       "        vertical-align: top;\n",
       "    }\n",
       "\n",
       "    .dataframe thead th {\n",
       "        text-align: right;\n",
       "    }\n",
       "</style>\n",
       "<table border=\"1\" class=\"dataframe\">\n",
       "  <thead>\n",
       "    <tr style=\"text-align: right;\">\n",
       "      <th></th>\n",
       "      <th>SUBDIVISION</th>\n",
       "      <th>YEAR</th>\n",
       "      <th>JAN</th>\n",
       "      <th>FEB</th>\n",
       "      <th>MAR</th>\n",
       "      <th>APR</th>\n",
       "      <th>MAY</th>\n",
       "      <th>JUN</th>\n",
       "      <th>JUL</th>\n",
       "      <th>AUG</th>\n",
       "      <th>SEP</th>\n",
       "      <th>OCT</th>\n",
       "      <th>NOV</th>\n",
       "      <th>DEC</th>\n",
       "      <th>ANNUAL</th>\n",
       "      <th>Jan-Feb</th>\n",
       "      <th>Mar-May</th>\n",
       "      <th>Jun-Sep</th>\n",
       "      <th>Oct-Dec</th>\n",
       "      <th>min_rainfall_month</th>\n",
       "      <th>max_rainfall_month</th>\n",
       "    </tr>\n",
       "  </thead>\n",
       "  <tbody>\n",
       "    <tr>\n",
       "      <th>1472</th>\n",
       "      <td>PUNJAB</td>\n",
       "      <td>1901</td>\n",
       "      <td>55.7</td>\n",
       "      <td>50.1</td>\n",
       "      <td>25.2</td>\n",
       "      <td>2.1</td>\n",
       "      <td>25.2</td>\n",
       "      <td>10.4</td>\n",
       "      <td>178.2</td>\n",
       "      <td>145.0</td>\n",
       "      <td>24.4</td>\n",
       "      <td>3.7</td>\n",
       "      <td>0.0</td>\n",
       "      <td>3.3</td>\n",
       "      <td>523.5</td>\n",
       "      <td>105.9</td>\n",
       "      <td>52.5</td>\n",
       "      <td>358.1</td>\n",
       "      <td>7.0</td>\n",
       "      <td>NOV</td>\n",
       "      <td>JUL</td>\n",
       "    </tr>\n",
       "    <tr>\n",
       "      <th>1473</th>\n",
       "      <td>PUNJAB</td>\n",
       "      <td>1902</td>\n",
       "      <td>0.0</td>\n",
       "      <td>0.8</td>\n",
       "      <td>9.9</td>\n",
       "      <td>10.9</td>\n",
       "      <td>29.6</td>\n",
       "      <td>49.9</td>\n",
       "      <td>125.6</td>\n",
       "      <td>94.9</td>\n",
       "      <td>67.2</td>\n",
       "      <td>9.0</td>\n",
       "      <td>0.0</td>\n",
       "      <td>0.1</td>\n",
       "      <td>398.0</td>\n",
       "      <td>0.8</td>\n",
       "      <td>50.4</td>\n",
       "      <td>337.7</td>\n",
       "      <td>9.1</td>\n",
       "      <td>JAN</td>\n",
       "      <td>JUL</td>\n",
       "    </tr>\n",
       "    <tr>\n",
       "      <th>1474</th>\n",
       "      <td>PUNJAB</td>\n",
       "      <td>1903</td>\n",
       "      <td>29.5</td>\n",
       "      <td>0.5</td>\n",
       "      <td>45.0</td>\n",
       "      <td>1.3</td>\n",
       "      <td>9.2</td>\n",
       "      <td>5.2</td>\n",
       "      <td>212.2</td>\n",
       "      <td>119.1</td>\n",
       "      <td>132.5</td>\n",
       "      <td>6.9</td>\n",
       "      <td>0.0</td>\n",
       "      <td>9.5</td>\n",
       "      <td>571.0</td>\n",
       "      <td>29.9</td>\n",
       "      <td>55.5</td>\n",
       "      <td>469.1</td>\n",
       "      <td>16.4</td>\n",
       "      <td>NOV</td>\n",
       "      <td>JUL</td>\n",
       "    </tr>\n",
       "    <tr>\n",
       "      <th>1475</th>\n",
       "      <td>PUNJAB</td>\n",
       "      <td>1904</td>\n",
       "      <td>24.2</td>\n",
       "      <td>1.7</td>\n",
       "      <td>87.8</td>\n",
       "      <td>1.2</td>\n",
       "      <td>13.8</td>\n",
       "      <td>22.0</td>\n",
       "      <td>59.9</td>\n",
       "      <td>124.0</td>\n",
       "      <td>73.8</td>\n",
       "      <td>7.4</td>\n",
       "      <td>9.8</td>\n",
       "      <td>25.9</td>\n",
       "      <td>451.5</td>\n",
       "      <td>25.9</td>\n",
       "      <td>102.9</td>\n",
       "      <td>279.7</td>\n",
       "      <td>43.1</td>\n",
       "      <td>APR</td>\n",
       "      <td>AUG</td>\n",
       "    </tr>\n",
       "    <tr>\n",
       "      <th>1476</th>\n",
       "      <td>PUNJAB</td>\n",
       "      <td>1905</td>\n",
       "      <td>53.0</td>\n",
       "      <td>40.3</td>\n",
       "      <td>24.3</td>\n",
       "      <td>0.5</td>\n",
       "      <td>2.2</td>\n",
       "      <td>19.2</td>\n",
       "      <td>122.6</td>\n",
       "      <td>50.3</td>\n",
       "      <td>111.1</td>\n",
       "      <td>1.2</td>\n",
       "      <td>0.0</td>\n",
       "      <td>9.4</td>\n",
       "      <td>434.3</td>\n",
       "      <td>93.3</td>\n",
       "      <td>27.0</td>\n",
       "      <td>303.2</td>\n",
       "      <td>10.7</td>\n",
       "      <td>NOV</td>\n",
       "      <td>JUL</td>\n",
       "    </tr>\n",
       "  </tbody>\n",
       "</table>\n",
       "</div>"
      ],
      "text/plain": [
       "     SUBDIVISION  YEAR   JAN  ...  Oct-Dec  min_rainfall_month  max_rainfall_month\n",
       "1472      PUNJAB  1901  55.7  ...      7.0                 NOV                 JUL\n",
       "1473      PUNJAB  1902   0.0  ...      9.1                 JAN                 JUL\n",
       "1474      PUNJAB  1903  29.5  ...     16.4                 NOV                 JUL\n",
       "1475      PUNJAB  1904  24.2  ...     43.1                 APR                 AUG\n",
       "1476      PUNJAB  1905  53.0  ...     10.7                 NOV                 JUL\n",
       "\n",
       "[5 rows x 21 columns]"
      ]
     },
     "execution_count": 122,
     "metadata": {
      "tags": []
     },
     "output_type": "execute_result"
    }
   ],
   "source": [
    "punjab_df.head()"
   ]
  },
  {
   "cell_type": "code",
   "execution_count": 0,
   "metadata": {
    "colab": {
     "base_uri": "https://localhost:8080/",
     "height": 153
    },
    "colab_type": "code",
    "id": "csSuRpZoJwJh",
    "outputId": "69e18cc3-fefd-49fb-d806-5e6c3e637fa7"
   },
   "outputs": [
    {
     "data": {
      "text/plain": [
       "JUL    57\n",
       "AUG    42\n",
       "SEP    12\n",
       "JUN     1\n",
       "JAN     1\n",
       "MAY     1\n",
       "OCT     1\n",
       "Name: max_rainfall_month, dtype: int64"
      ]
     },
     "execution_count": 123,
     "metadata": {
      "tags": []
     },
     "output_type": "execute_result"
    }
   ],
   "source": [
    "# Now let say we want to find count of each month in max_rainfall months\n",
    "punjab_df['max_rainfall_month'].value_counts()"
   ]
  },
  {
   "cell_type": "code",
   "execution_count": 0,
   "metadata": {
    "colab": {
     "base_uri": "https://localhost:8080/",
     "height": 187
    },
    "colab_type": "code",
    "id": "0vmadQlWLzu5",
    "outputId": "dde14664-39ea-49f1-a077-f97049427778"
   },
   "outputs": [
    {
     "data": {
      "text/plain": [
       "NOV    52\n",
       "OCT    21\n",
       "DEC    14\n",
       "JAN     7\n",
       "APR     7\n",
       "MAR     5\n",
       "MAY     4\n",
       "FEB     3\n",
       "SEP     2\n",
       "Name: min_rainfall_month, dtype: int64"
      ]
     },
     "execution_count": 124,
     "metadata": {
      "tags": []
     },
     "output_type": "execute_result"
    }
   ],
   "source": [
    "punjab_df['min_rainfall_month'].value_counts()"
   ]
  },
  {
   "cell_type": "markdown",
   "metadata": {
    "colab_type": "text",
    "id": "mlIFAlsyNJoG"
   },
   "source": [
    "#Now How to remove a column from dataframe ?"
   ]
  },
  {
   "cell_type": "code",
   "execution_count": 0,
   "metadata": {
    "colab": {},
    "colab_type": "code",
    "id": "HItMYGb6L_L6"
   },
   "outputs": [],
   "source": [
    "punjab_df =  punjab_df.drop('Jan-Feb' , axis = 1 )"
   ]
  },
  {
   "cell_type": "code",
   "execution_count": 0,
   "metadata": {
    "colab": {
     "base_uri": "https://localhost:8080/",
     "height": 204
    },
    "colab_type": "code",
    "id": "TJ62HI8FOKw9",
    "outputId": "27b16e1d-4032-4260-d66b-e9ae1c5df857"
   },
   "outputs": [
    {
     "data": {
      "text/html": [
       "<div>\n",
       "<style scoped>\n",
       "    .dataframe tbody tr th:only-of-type {\n",
       "        vertical-align: middle;\n",
       "    }\n",
       "\n",
       "    .dataframe tbody tr th {\n",
       "        vertical-align: top;\n",
       "    }\n",
       "\n",
       "    .dataframe thead th {\n",
       "        text-align: right;\n",
       "    }\n",
       "</style>\n",
       "<table border=\"1\" class=\"dataframe\">\n",
       "  <thead>\n",
       "    <tr style=\"text-align: right;\">\n",
       "      <th></th>\n",
       "      <th>SUBDIVISION</th>\n",
       "      <th>YEAR</th>\n",
       "      <th>JAN</th>\n",
       "      <th>FEB</th>\n",
       "      <th>MAR</th>\n",
       "      <th>APR</th>\n",
       "      <th>MAY</th>\n",
       "      <th>JUN</th>\n",
       "      <th>JUL</th>\n",
       "      <th>AUG</th>\n",
       "      <th>SEP</th>\n",
       "      <th>OCT</th>\n",
       "      <th>NOV</th>\n",
       "      <th>DEC</th>\n",
       "      <th>ANNUAL</th>\n",
       "      <th>Mar-May</th>\n",
       "      <th>Jun-Sep</th>\n",
       "      <th>Oct-Dec</th>\n",
       "      <th>min_rainfall_month</th>\n",
       "      <th>max_rainfall_month</th>\n",
       "    </tr>\n",
       "  </thead>\n",
       "  <tbody>\n",
       "    <tr>\n",
       "      <th>1472</th>\n",
       "      <td>PUNJAB</td>\n",
       "      <td>1901</td>\n",
       "      <td>55.7</td>\n",
       "      <td>50.1</td>\n",
       "      <td>25.2</td>\n",
       "      <td>2.1</td>\n",
       "      <td>25.2</td>\n",
       "      <td>10.4</td>\n",
       "      <td>178.2</td>\n",
       "      <td>145.0</td>\n",
       "      <td>24.4</td>\n",
       "      <td>3.7</td>\n",
       "      <td>0.0</td>\n",
       "      <td>3.3</td>\n",
       "      <td>523.5</td>\n",
       "      <td>52.5</td>\n",
       "      <td>358.1</td>\n",
       "      <td>7.0</td>\n",
       "      <td>NOV</td>\n",
       "      <td>JUL</td>\n",
       "    </tr>\n",
       "    <tr>\n",
       "      <th>1473</th>\n",
       "      <td>PUNJAB</td>\n",
       "      <td>1902</td>\n",
       "      <td>0.0</td>\n",
       "      <td>0.8</td>\n",
       "      <td>9.9</td>\n",
       "      <td>10.9</td>\n",
       "      <td>29.6</td>\n",
       "      <td>49.9</td>\n",
       "      <td>125.6</td>\n",
       "      <td>94.9</td>\n",
       "      <td>67.2</td>\n",
       "      <td>9.0</td>\n",
       "      <td>0.0</td>\n",
       "      <td>0.1</td>\n",
       "      <td>398.0</td>\n",
       "      <td>50.4</td>\n",
       "      <td>337.7</td>\n",
       "      <td>9.1</td>\n",
       "      <td>JAN</td>\n",
       "      <td>JUL</td>\n",
       "    </tr>\n",
       "    <tr>\n",
       "      <th>1474</th>\n",
       "      <td>PUNJAB</td>\n",
       "      <td>1903</td>\n",
       "      <td>29.5</td>\n",
       "      <td>0.5</td>\n",
       "      <td>45.0</td>\n",
       "      <td>1.3</td>\n",
       "      <td>9.2</td>\n",
       "      <td>5.2</td>\n",
       "      <td>212.2</td>\n",
       "      <td>119.1</td>\n",
       "      <td>132.5</td>\n",
       "      <td>6.9</td>\n",
       "      <td>0.0</td>\n",
       "      <td>9.5</td>\n",
       "      <td>571.0</td>\n",
       "      <td>55.5</td>\n",
       "      <td>469.1</td>\n",
       "      <td>16.4</td>\n",
       "      <td>NOV</td>\n",
       "      <td>JUL</td>\n",
       "    </tr>\n",
       "    <tr>\n",
       "      <th>1475</th>\n",
       "      <td>PUNJAB</td>\n",
       "      <td>1904</td>\n",
       "      <td>24.2</td>\n",
       "      <td>1.7</td>\n",
       "      <td>87.8</td>\n",
       "      <td>1.2</td>\n",
       "      <td>13.8</td>\n",
       "      <td>22.0</td>\n",
       "      <td>59.9</td>\n",
       "      <td>124.0</td>\n",
       "      <td>73.8</td>\n",
       "      <td>7.4</td>\n",
       "      <td>9.8</td>\n",
       "      <td>25.9</td>\n",
       "      <td>451.5</td>\n",
       "      <td>102.9</td>\n",
       "      <td>279.7</td>\n",
       "      <td>43.1</td>\n",
       "      <td>APR</td>\n",
       "      <td>AUG</td>\n",
       "    </tr>\n",
       "    <tr>\n",
       "      <th>1476</th>\n",
       "      <td>PUNJAB</td>\n",
       "      <td>1905</td>\n",
       "      <td>53.0</td>\n",
       "      <td>40.3</td>\n",
       "      <td>24.3</td>\n",
       "      <td>0.5</td>\n",
       "      <td>2.2</td>\n",
       "      <td>19.2</td>\n",
       "      <td>122.6</td>\n",
       "      <td>50.3</td>\n",
       "      <td>111.1</td>\n",
       "      <td>1.2</td>\n",
       "      <td>0.0</td>\n",
       "      <td>9.4</td>\n",
       "      <td>434.3</td>\n",
       "      <td>27.0</td>\n",
       "      <td>303.2</td>\n",
       "      <td>10.7</td>\n",
       "      <td>NOV</td>\n",
       "      <td>JUL</td>\n",
       "    </tr>\n",
       "  </tbody>\n",
       "</table>\n",
       "</div>"
      ],
      "text/plain": [
       "     SUBDIVISION  YEAR   JAN  ...  Oct-Dec  min_rainfall_month  max_rainfall_month\n",
       "1472      PUNJAB  1901  55.7  ...      7.0                 NOV                 JUL\n",
       "1473      PUNJAB  1902   0.0  ...      9.1                 JAN                 JUL\n",
       "1474      PUNJAB  1903  29.5  ...     16.4                 NOV                 JUL\n",
       "1475      PUNJAB  1904  24.2  ...     43.1                 APR                 AUG\n",
       "1476      PUNJAB  1905  53.0  ...     10.7                 NOV                 JUL\n",
       "\n",
       "[5 rows x 20 columns]"
      ]
     },
     "execution_count": 126,
     "metadata": {
      "tags": []
     },
     "output_type": "execute_result"
    }
   ],
   "source": [
    "punjab_df.head()"
   ]
  },
  {
   "cell_type": "code",
   "execution_count": 0,
   "metadata": {
    "colab": {
     "base_uri": "https://localhost:8080/",
     "height": 419
    },
    "colab_type": "code",
    "id": "6D3kNXA4ON4m",
    "outputId": "f546fb23-1b7c-409a-fac0-46b04c646ffc"
   },
   "outputs": [
    {
     "data": {
      "text/html": [
       "<div>\n",
       "<style scoped>\n",
       "    .dataframe tbody tr th:only-of-type {\n",
       "        vertical-align: middle;\n",
       "    }\n",
       "\n",
       "    .dataframe tbody tr th {\n",
       "        vertical-align: top;\n",
       "    }\n",
       "\n",
       "    .dataframe thead th {\n",
       "        text-align: right;\n",
       "    }\n",
       "</style>\n",
       "<table border=\"1\" class=\"dataframe\">\n",
       "  <thead>\n",
       "    <tr style=\"text-align: right;\">\n",
       "      <th></th>\n",
       "      <th>SUBDIVISION</th>\n",
       "      <th>YEAR</th>\n",
       "      <th>JAN</th>\n",
       "      <th>FEB</th>\n",
       "      <th>MAR</th>\n",
       "      <th>APR</th>\n",
       "      <th>MAY</th>\n",
       "      <th>JUN</th>\n",
       "      <th>JUL</th>\n",
       "      <th>AUG</th>\n",
       "      <th>SEP</th>\n",
       "      <th>OCT</th>\n",
       "      <th>NOV</th>\n",
       "      <th>DEC</th>\n",
       "      <th>ANNUAL</th>\n",
       "      <th>min_rainfall_month</th>\n",
       "      <th>max_rainfall_month</th>\n",
       "    </tr>\n",
       "  </thead>\n",
       "  <tbody>\n",
       "    <tr>\n",
       "      <th>1472</th>\n",
       "      <td>PUNJAB</td>\n",
       "      <td>1901</td>\n",
       "      <td>55.7</td>\n",
       "      <td>50.1</td>\n",
       "      <td>25.2</td>\n",
       "      <td>2.1</td>\n",
       "      <td>25.2</td>\n",
       "      <td>10.4</td>\n",
       "      <td>178.2</td>\n",
       "      <td>145.0</td>\n",
       "      <td>24.4</td>\n",
       "      <td>3.7</td>\n",
       "      <td>0.0</td>\n",
       "      <td>3.3</td>\n",
       "      <td>523.5</td>\n",
       "      <td>NOV</td>\n",
       "      <td>JUL</td>\n",
       "    </tr>\n",
       "    <tr>\n",
       "      <th>1473</th>\n",
       "      <td>PUNJAB</td>\n",
       "      <td>1902</td>\n",
       "      <td>0.0</td>\n",
       "      <td>0.8</td>\n",
       "      <td>9.9</td>\n",
       "      <td>10.9</td>\n",
       "      <td>29.6</td>\n",
       "      <td>49.9</td>\n",
       "      <td>125.6</td>\n",
       "      <td>94.9</td>\n",
       "      <td>67.2</td>\n",
       "      <td>9.0</td>\n",
       "      <td>0.0</td>\n",
       "      <td>0.1</td>\n",
       "      <td>398.0</td>\n",
       "      <td>JAN</td>\n",
       "      <td>JUL</td>\n",
       "    </tr>\n",
       "    <tr>\n",
       "      <th>1474</th>\n",
       "      <td>PUNJAB</td>\n",
       "      <td>1903</td>\n",
       "      <td>29.5</td>\n",
       "      <td>0.5</td>\n",
       "      <td>45.0</td>\n",
       "      <td>1.3</td>\n",
       "      <td>9.2</td>\n",
       "      <td>5.2</td>\n",
       "      <td>212.2</td>\n",
       "      <td>119.1</td>\n",
       "      <td>132.5</td>\n",
       "      <td>6.9</td>\n",
       "      <td>0.0</td>\n",
       "      <td>9.5</td>\n",
       "      <td>571.0</td>\n",
       "      <td>NOV</td>\n",
       "      <td>JUL</td>\n",
       "    </tr>\n",
       "    <tr>\n",
       "      <th>1475</th>\n",
       "      <td>PUNJAB</td>\n",
       "      <td>1904</td>\n",
       "      <td>24.2</td>\n",
       "      <td>1.7</td>\n",
       "      <td>87.8</td>\n",
       "      <td>1.2</td>\n",
       "      <td>13.8</td>\n",
       "      <td>22.0</td>\n",
       "      <td>59.9</td>\n",
       "      <td>124.0</td>\n",
       "      <td>73.8</td>\n",
       "      <td>7.4</td>\n",
       "      <td>9.8</td>\n",
       "      <td>25.9</td>\n",
       "      <td>451.5</td>\n",
       "      <td>APR</td>\n",
       "      <td>AUG</td>\n",
       "    </tr>\n",
       "    <tr>\n",
       "      <th>1476</th>\n",
       "      <td>PUNJAB</td>\n",
       "      <td>1905</td>\n",
       "      <td>53.0</td>\n",
       "      <td>40.3</td>\n",
       "      <td>24.3</td>\n",
       "      <td>0.5</td>\n",
       "      <td>2.2</td>\n",
       "      <td>19.2</td>\n",
       "      <td>122.6</td>\n",
       "      <td>50.3</td>\n",
       "      <td>111.1</td>\n",
       "      <td>1.2</td>\n",
       "      <td>0.0</td>\n",
       "      <td>9.4</td>\n",
       "      <td>434.3</td>\n",
       "      <td>NOV</td>\n",
       "      <td>JUL</td>\n",
       "    </tr>\n",
       "    <tr>\n",
       "      <th>...</th>\n",
       "      <td>...</td>\n",
       "      <td>...</td>\n",
       "      <td>...</td>\n",
       "      <td>...</td>\n",
       "      <td>...</td>\n",
       "      <td>...</td>\n",
       "      <td>...</td>\n",
       "      <td>...</td>\n",
       "      <td>...</td>\n",
       "      <td>...</td>\n",
       "      <td>...</td>\n",
       "      <td>...</td>\n",
       "      <td>...</td>\n",
       "      <td>...</td>\n",
       "      <td>...</td>\n",
       "      <td>...</td>\n",
       "      <td>...</td>\n",
       "    </tr>\n",
       "    <tr>\n",
       "      <th>1582</th>\n",
       "      <td>PUNJAB</td>\n",
       "      <td>2011</td>\n",
       "      <td>3.5</td>\n",
       "      <td>35.6</td>\n",
       "      <td>8.2</td>\n",
       "      <td>17.8</td>\n",
       "      <td>18.9</td>\n",
       "      <td>162.9</td>\n",
       "      <td>120.9</td>\n",
       "      <td>193.5</td>\n",
       "      <td>140.2</td>\n",
       "      <td>0.0</td>\n",
       "      <td>1.0</td>\n",
       "      <td>2.6</td>\n",
       "      <td>705.2</td>\n",
       "      <td>OCT</td>\n",
       "      <td>AUG</td>\n",
       "    </tr>\n",
       "    <tr>\n",
       "      <th>1583</th>\n",
       "      <td>PUNJAB</td>\n",
       "      <td>2012</td>\n",
       "      <td>62.6</td>\n",
       "      <td>3.2</td>\n",
       "      <td>1.9</td>\n",
       "      <td>31.1</td>\n",
       "      <td>1.6</td>\n",
       "      <td>11.9</td>\n",
       "      <td>120.2</td>\n",
       "      <td>135.1</td>\n",
       "      <td>112.3</td>\n",
       "      <td>2.2</td>\n",
       "      <td>0.4</td>\n",
       "      <td>11.0</td>\n",
       "      <td>493.6</td>\n",
       "      <td>NOV</td>\n",
       "      <td>AUG</td>\n",
       "    </tr>\n",
       "    <tr>\n",
       "      <th>1584</th>\n",
       "      <td>PUNJAB</td>\n",
       "      <td>2013</td>\n",
       "      <td>9.3</td>\n",
       "      <td>50.1</td>\n",
       "      <td>11.6</td>\n",
       "      <td>3.4</td>\n",
       "      <td>3.6</td>\n",
       "      <td>120.3</td>\n",
       "      <td>117.9</td>\n",
       "      <td>217.1</td>\n",
       "      <td>24.4</td>\n",
       "      <td>16.2</td>\n",
       "      <td>6.1</td>\n",
       "      <td>6.6</td>\n",
       "      <td>586.6</td>\n",
       "      <td>APR</td>\n",
       "      <td>AUG</td>\n",
       "    </tr>\n",
       "    <tr>\n",
       "      <th>1585</th>\n",
       "      <td>PUNJAB</td>\n",
       "      <td>2014</td>\n",
       "      <td>21.8</td>\n",
       "      <td>20.1</td>\n",
       "      <td>30.3</td>\n",
       "      <td>24.5</td>\n",
       "      <td>20.8</td>\n",
       "      <td>20.6</td>\n",
       "      <td>76.3</td>\n",
       "      <td>41.9</td>\n",
       "      <td>105.8</td>\n",
       "      <td>6.0</td>\n",
       "      <td>0.7</td>\n",
       "      <td>14.1</td>\n",
       "      <td>382.7</td>\n",
       "      <td>NOV</td>\n",
       "      <td>SEP</td>\n",
       "    </tr>\n",
       "    <tr>\n",
       "      <th>1586</th>\n",
       "      <td>PUNJAB</td>\n",
       "      <td>2015</td>\n",
       "      <td>17.7</td>\n",
       "      <td>31.3</td>\n",
       "      <td>68.5</td>\n",
       "      <td>29.8</td>\n",
       "      <td>16.7</td>\n",
       "      <td>48.3</td>\n",
       "      <td>130.2</td>\n",
       "      <td>88.6</td>\n",
       "      <td>69.2</td>\n",
       "      <td>9.0</td>\n",
       "      <td>0.8</td>\n",
       "      <td>0.7</td>\n",
       "      <td>510.8</td>\n",
       "      <td>DEC</td>\n",
       "      <td>JUL</td>\n",
       "    </tr>\n",
       "  </tbody>\n",
       "</table>\n",
       "<p>115 rows × 17 columns</p>\n",
       "</div>"
      ],
      "text/plain": [
       "     SUBDIVISION  YEAR   JAN  ...  ANNUAL  min_rainfall_month  max_rainfall_month\n",
       "1472      PUNJAB  1901  55.7  ...   523.5                 NOV                 JUL\n",
       "1473      PUNJAB  1902   0.0  ...   398.0                 JAN                 JUL\n",
       "1474      PUNJAB  1903  29.5  ...   571.0                 NOV                 JUL\n",
       "1475      PUNJAB  1904  24.2  ...   451.5                 APR                 AUG\n",
       "1476      PUNJAB  1905  53.0  ...   434.3                 NOV                 JUL\n",
       "...          ...   ...   ...  ...     ...                 ...                 ...\n",
       "1582      PUNJAB  2011   3.5  ...   705.2                 OCT                 AUG\n",
       "1583      PUNJAB  2012  62.6  ...   493.6                 NOV                 AUG\n",
       "1584      PUNJAB  2013   9.3  ...   586.6                 APR                 AUG\n",
       "1585      PUNJAB  2014  21.8  ...   382.7                 NOV                 SEP\n",
       "1586      PUNJAB  2015  17.7  ...   510.8                 DEC                 JUL\n",
       "\n",
       "[115 rows x 17 columns]"
      ]
     },
     "execution_count": 127,
     "metadata": {
      "tags": []
     },
     "output_type": "execute_result"
    }
   ],
   "source": [
    "# DROP Multiple columns in a one go\n",
    "col_drop = ['Mar-May' , 'Jun-Sep' , 'Oct-Dec']\n",
    "punjab_df = punjab_df.drop(col_drop , axis=1)\n",
    "punjab_df"
   ]
  },
  {
   "cell_type": "markdown",
   "metadata": {
    "colab_type": "text",
    "id": "jg3lcx0rP4Ro"
   },
   "source": [
    "# Selecting a Subset from Dataframe"
   ]
  },
  {
   "cell_type": "code",
   "execution_count": 0,
   "metadata": {
    "colab": {},
    "colab_type": "code",
    "id": "IzaK0Jr3OmxV"
   },
   "outputs": [],
   "source": [
    "# Selecting Subset of Dataframe\n",
    "punjab_newdf = punjab_df[['SUBDIVISION', 'YEAR' ,'ANNUAL']]\n",
    "punjan_newdf_1 = punjab_df[['YEAR' ,'min_rainfall_month' , 'max_rainfall_month']]\n"
   ]
  },
  {
   "cell_type": "code",
   "execution_count": 0,
   "metadata": {
    "colab": {
     "base_uri": "https://localhost:8080/",
     "height": 419
    },
    "colab_type": "code",
    "id": "RSkaFjI3QOaf",
    "outputId": "4430615e-c2c9-44cc-fac9-d3b227eb8c54"
   },
   "outputs": [
    {
     "data": {
      "text/html": [
       "<div>\n",
       "<style scoped>\n",
       "    .dataframe tbody tr th:only-of-type {\n",
       "        vertical-align: middle;\n",
       "    }\n",
       "\n",
       "    .dataframe tbody tr th {\n",
       "        vertical-align: top;\n",
       "    }\n",
       "\n",
       "    .dataframe thead th {\n",
       "        text-align: right;\n",
       "    }\n",
       "</style>\n",
       "<table border=\"1\" class=\"dataframe\">\n",
       "  <thead>\n",
       "    <tr style=\"text-align: right;\">\n",
       "      <th></th>\n",
       "      <th>SUBDIVISION</th>\n",
       "      <th>YEAR</th>\n",
       "      <th>ANNUAL</th>\n",
       "    </tr>\n",
       "  </thead>\n",
       "  <tbody>\n",
       "    <tr>\n",
       "      <th>1472</th>\n",
       "      <td>PUNJAB</td>\n",
       "      <td>1901</td>\n",
       "      <td>523.5</td>\n",
       "    </tr>\n",
       "    <tr>\n",
       "      <th>1473</th>\n",
       "      <td>PUNJAB</td>\n",
       "      <td>1902</td>\n",
       "      <td>398.0</td>\n",
       "    </tr>\n",
       "    <tr>\n",
       "      <th>1474</th>\n",
       "      <td>PUNJAB</td>\n",
       "      <td>1903</td>\n",
       "      <td>571.0</td>\n",
       "    </tr>\n",
       "    <tr>\n",
       "      <th>1475</th>\n",
       "      <td>PUNJAB</td>\n",
       "      <td>1904</td>\n",
       "      <td>451.5</td>\n",
       "    </tr>\n",
       "    <tr>\n",
       "      <th>1476</th>\n",
       "      <td>PUNJAB</td>\n",
       "      <td>1905</td>\n",
       "      <td>434.3</td>\n",
       "    </tr>\n",
       "    <tr>\n",
       "      <th>...</th>\n",
       "      <td>...</td>\n",
       "      <td>...</td>\n",
       "      <td>...</td>\n",
       "    </tr>\n",
       "    <tr>\n",
       "      <th>1582</th>\n",
       "      <td>PUNJAB</td>\n",
       "      <td>2011</td>\n",
       "      <td>705.2</td>\n",
       "    </tr>\n",
       "    <tr>\n",
       "      <th>1583</th>\n",
       "      <td>PUNJAB</td>\n",
       "      <td>2012</td>\n",
       "      <td>493.6</td>\n",
       "    </tr>\n",
       "    <tr>\n",
       "      <th>1584</th>\n",
       "      <td>PUNJAB</td>\n",
       "      <td>2013</td>\n",
       "      <td>586.6</td>\n",
       "    </tr>\n",
       "    <tr>\n",
       "      <th>1585</th>\n",
       "      <td>PUNJAB</td>\n",
       "      <td>2014</td>\n",
       "      <td>382.7</td>\n",
       "    </tr>\n",
       "    <tr>\n",
       "      <th>1586</th>\n",
       "      <td>PUNJAB</td>\n",
       "      <td>2015</td>\n",
       "      <td>510.8</td>\n",
       "    </tr>\n",
       "  </tbody>\n",
       "</table>\n",
       "<p>115 rows × 3 columns</p>\n",
       "</div>"
      ],
      "text/plain": [
       "     SUBDIVISION  YEAR  ANNUAL\n",
       "1472      PUNJAB  1901   523.5\n",
       "1473      PUNJAB  1902   398.0\n",
       "1474      PUNJAB  1903   571.0\n",
       "1475      PUNJAB  1904   451.5\n",
       "1476      PUNJAB  1905   434.3\n",
       "...          ...   ...     ...\n",
       "1582      PUNJAB  2011   705.2\n",
       "1583      PUNJAB  2012   493.6\n",
       "1584      PUNJAB  2013   586.6\n",
       "1585      PUNJAB  2014   382.7\n",
       "1586      PUNJAB  2015   510.8\n",
       "\n",
       "[115 rows x 3 columns]"
      ]
     },
     "execution_count": 129,
     "metadata": {
      "tags": []
     },
     "output_type": "execute_result"
    }
   ],
   "source": [
    "punjab_newdf"
   ]
  },
  {
   "cell_type": "code",
   "execution_count": 0,
   "metadata": {
    "colab": {
     "base_uri": "https://localhost:8080/",
     "height": 187
    },
    "colab_type": "code",
    "id": "PrXGQ4jTQRRi",
    "outputId": "d8c2132c-5e8c-4614-e835-9d9c4aeeb028"
   },
   "outputs": [
    {
     "name": "stdout",
     "output_type": "stream",
     "text": [
      "<class 'pandas.core.frame.DataFrame'>\n",
      "Int64Index: 115 entries, 1472 to 1586\n",
      "Data columns (total 3 columns):\n",
      " #   Column       Non-Null Count  Dtype  \n",
      "---  ------       --------------  -----  \n",
      " 0   SUBDIVISION  115 non-null    object \n",
      " 1   YEAR         115 non-null    int64  \n",
      " 2   ANNUAL       115 non-null    float64\n",
      "dtypes: float64(1), int64(1), object(1)\n",
      "memory usage: 3.6+ KB\n"
     ]
    }
   ],
   "source": [
    "punjab_newdf.info()"
   ]
  },
  {
   "cell_type": "code",
   "execution_count": 0,
   "metadata": {
    "colab": {
     "base_uri": "https://localhost:8080/",
     "height": 297
    },
    "colab_type": "code",
    "id": "p7FoiFSlQrLJ",
    "outputId": "525bb01e-a284-46b3-d6b2-639d345a6ceb"
   },
   "outputs": [
    {
     "data": {
      "text/html": [
       "<div>\n",
       "<style scoped>\n",
       "    .dataframe tbody tr th:only-of-type {\n",
       "        vertical-align: middle;\n",
       "    }\n",
       "\n",
       "    .dataframe tbody tr th {\n",
       "        vertical-align: top;\n",
       "    }\n",
       "\n",
       "    .dataframe thead th {\n",
       "        text-align: right;\n",
       "    }\n",
       "</style>\n",
       "<table border=\"1\" class=\"dataframe\">\n",
       "  <thead>\n",
       "    <tr style=\"text-align: right;\">\n",
       "      <th></th>\n",
       "      <th>YEAR</th>\n",
       "      <th>ANNUAL</th>\n",
       "    </tr>\n",
       "  </thead>\n",
       "  <tbody>\n",
       "    <tr>\n",
       "      <th>count</th>\n",
       "      <td>115.000000</td>\n",
       "      <td>115.000000</td>\n",
       "    </tr>\n",
       "    <tr>\n",
       "      <th>mean</th>\n",
       "      <td>1958.000000</td>\n",
       "      <td>593.535652</td>\n",
       "    </tr>\n",
       "    <tr>\n",
       "      <th>std</th>\n",
       "      <td>33.341666</td>\n",
       "      <td>163.357568</td>\n",
       "    </tr>\n",
       "    <tr>\n",
       "      <th>min</th>\n",
       "      <td>1901.000000</td>\n",
       "      <td>274.700000</td>\n",
       "    </tr>\n",
       "    <tr>\n",
       "      <th>25%</th>\n",
       "      <td>1929.500000</td>\n",
       "      <td>477.150000</td>\n",
       "    </tr>\n",
       "    <tr>\n",
       "      <th>50%</th>\n",
       "      <td>1958.000000</td>\n",
       "      <td>586.600000</td>\n",
       "    </tr>\n",
       "    <tr>\n",
       "      <th>75%</th>\n",
       "      <td>1986.500000</td>\n",
       "      <td>702.500000</td>\n",
       "    </tr>\n",
       "    <tr>\n",
       "      <th>max</th>\n",
       "      <td>2015.000000</td>\n",
       "      <td>1222.600000</td>\n",
       "    </tr>\n",
       "  </tbody>\n",
       "</table>\n",
       "</div>"
      ],
      "text/plain": [
       "              YEAR       ANNUAL\n",
       "count   115.000000   115.000000\n",
       "mean   1958.000000   593.535652\n",
       "std      33.341666   163.357568\n",
       "min    1901.000000   274.700000\n",
       "25%    1929.500000   477.150000\n",
       "50%    1958.000000   586.600000\n",
       "75%    1986.500000   702.500000\n",
       "max    2015.000000  1222.600000"
      ]
     },
     "execution_count": 131,
     "metadata": {
      "tags": []
     },
     "output_type": "execute_result"
    }
   ],
   "source": [
    "punjab_newdf.describe()"
   ]
  },
  {
   "cell_type": "markdown",
   "metadata": {
    "colab_type": "text",
    "id": "ujVDEs1pQ_XY"
   },
   "source": [
    "Now let say we want to do some operation on some column"
   ]
  },
  {
   "cell_type": "code",
   "execution_count": 0,
   "metadata": {
    "colab": {
     "base_uri": "https://localhost:8080/",
     "height": 34
    },
    "colab_type": "code",
    "id": "4a8AeQuuQumY",
    "outputId": "e2a596f5-3065-430d-ec5b-b4fd4c8f0c16"
   },
   "outputs": [
    {
     "data": {
      "text/plain": [
       "593.5356521739129"
      ]
     },
     "execution_count": 132,
     "metadata": {
      "tags": []
     },
     "output_type": "execute_result"
    }
   ],
   "source": [
    "# Calucuating the deviation from mean rainfall\n",
    "mean_rainfall = punjab_newdf['ANNUAL'].mean()\n",
    "mean_rainfall"
   ]
  },
  {
   "cell_type": "code",
   "execution_count": 0,
   "metadata": {
    "colab": {},
    "colab_type": "code",
    "id": "Vu5RkM2kRbad"
   },
   "outputs": [],
   "source": [
    "deviation_from_mean =  punjab_newdf.ANNUAL - mean_rainfall"
   ]
  },
  {
   "cell_type": "code",
   "execution_count": 0,
   "metadata": {
    "colab": {
     "base_uri": "https://localhost:8080/",
     "height": 221
    },
    "colab_type": "code",
    "id": "0SnDSZ6vRsrJ",
    "outputId": "4f8018f1-76b9-473f-ee0d-e975cc51decc"
   },
   "outputs": [
    {
     "data": {
      "text/plain": [
       "1472    -70.035652\n",
       "1473   -195.535652\n",
       "1474    -22.535652\n",
       "1475   -142.035652\n",
       "1476   -159.235652\n",
       "           ...    \n",
       "1582    111.664348\n",
       "1583    -99.935652\n",
       "1584     -6.935652\n",
       "1585   -210.835652\n",
       "1586    -82.735652\n",
       "Name: ANNUAL, Length: 115, dtype: float64"
      ]
     },
     "execution_count": 134,
     "metadata": {
      "tags": []
     },
     "output_type": "execute_result"
    }
   ],
   "source": [
    "deviation_from_mean"
   ]
  },
  {
   "cell_type": "code",
   "execution_count": 0,
   "metadata": {
    "colab": {
     "base_uri": "https://localhost:8080/",
     "height": 119
    },
    "colab_type": "code",
    "id": "n22S2HXVRt-X",
    "outputId": "a74d4264-5067-4447-c2b3-7b2b3e0d3cb5"
   },
   "outputs": [
    {
     "name": "stderr",
     "output_type": "stream",
     "text": [
      "/usr/local/lib/python3.6/dist-packages/ipykernel_launcher.py:1: SettingWithCopyWarning: \n",
      "A value is trying to be set on a copy of a slice from a DataFrame.\n",
      "Try using .loc[row_indexer,col_indexer] = value instead\n",
      "\n",
      "See the caveats in the documentation: https://pandas.pydata.org/pandas-docs/stable/user_guide/indexing.html#returning-a-view-versus-a-copy\n",
      "  \"\"\"Entry point for launching an IPython kernel.\n"
     ]
    }
   ],
   "source": [
    "punjab_newdf['deviation_from_mean'] = deviation_from_mean\n"
   ]
  },
  {
   "cell_type": "code",
   "execution_count": 0,
   "metadata": {
    "colab": {
     "base_uri": "https://localhost:8080/",
     "height": 419
    },
    "colab_type": "code",
    "id": "fc2998iBR7vY",
    "outputId": "854cfc9d-f6ba-42f8-edbe-60e68a4b13e4"
   },
   "outputs": [
    {
     "data": {
      "text/html": [
       "<div>\n",
       "<style scoped>\n",
       "    .dataframe tbody tr th:only-of-type {\n",
       "        vertical-align: middle;\n",
       "    }\n",
       "\n",
       "    .dataframe tbody tr th {\n",
       "        vertical-align: top;\n",
       "    }\n",
       "\n",
       "    .dataframe thead th {\n",
       "        text-align: right;\n",
       "    }\n",
       "</style>\n",
       "<table border=\"1\" class=\"dataframe\">\n",
       "  <thead>\n",
       "    <tr style=\"text-align: right;\">\n",
       "      <th></th>\n",
       "      <th>SUBDIVISION</th>\n",
       "      <th>YEAR</th>\n",
       "      <th>ANNUAL</th>\n",
       "      <th>deviation_from_mean</th>\n",
       "    </tr>\n",
       "  </thead>\n",
       "  <tbody>\n",
       "    <tr>\n",
       "      <th>1472</th>\n",
       "      <td>PUNJAB</td>\n",
       "      <td>1901</td>\n",
       "      <td>523.5</td>\n",
       "      <td>-70.035652</td>\n",
       "    </tr>\n",
       "    <tr>\n",
       "      <th>1473</th>\n",
       "      <td>PUNJAB</td>\n",
       "      <td>1902</td>\n",
       "      <td>398.0</td>\n",
       "      <td>-195.535652</td>\n",
       "    </tr>\n",
       "    <tr>\n",
       "      <th>1474</th>\n",
       "      <td>PUNJAB</td>\n",
       "      <td>1903</td>\n",
       "      <td>571.0</td>\n",
       "      <td>-22.535652</td>\n",
       "    </tr>\n",
       "    <tr>\n",
       "      <th>1475</th>\n",
       "      <td>PUNJAB</td>\n",
       "      <td>1904</td>\n",
       "      <td>451.5</td>\n",
       "      <td>-142.035652</td>\n",
       "    </tr>\n",
       "    <tr>\n",
       "      <th>1476</th>\n",
       "      <td>PUNJAB</td>\n",
       "      <td>1905</td>\n",
       "      <td>434.3</td>\n",
       "      <td>-159.235652</td>\n",
       "    </tr>\n",
       "    <tr>\n",
       "      <th>...</th>\n",
       "      <td>...</td>\n",
       "      <td>...</td>\n",
       "      <td>...</td>\n",
       "      <td>...</td>\n",
       "    </tr>\n",
       "    <tr>\n",
       "      <th>1582</th>\n",
       "      <td>PUNJAB</td>\n",
       "      <td>2011</td>\n",
       "      <td>705.2</td>\n",
       "      <td>111.664348</td>\n",
       "    </tr>\n",
       "    <tr>\n",
       "      <th>1583</th>\n",
       "      <td>PUNJAB</td>\n",
       "      <td>2012</td>\n",
       "      <td>493.6</td>\n",
       "      <td>-99.935652</td>\n",
       "    </tr>\n",
       "    <tr>\n",
       "      <th>1584</th>\n",
       "      <td>PUNJAB</td>\n",
       "      <td>2013</td>\n",
       "      <td>586.6</td>\n",
       "      <td>-6.935652</td>\n",
       "    </tr>\n",
       "    <tr>\n",
       "      <th>1585</th>\n",
       "      <td>PUNJAB</td>\n",
       "      <td>2014</td>\n",
       "      <td>382.7</td>\n",
       "      <td>-210.835652</td>\n",
       "    </tr>\n",
       "    <tr>\n",
       "      <th>1586</th>\n",
       "      <td>PUNJAB</td>\n",
       "      <td>2015</td>\n",
       "      <td>510.8</td>\n",
       "      <td>-82.735652</td>\n",
       "    </tr>\n",
       "  </tbody>\n",
       "</table>\n",
       "<p>115 rows × 4 columns</p>\n",
       "</div>"
      ],
      "text/plain": [
       "     SUBDIVISION  YEAR  ANNUAL  deviation_from_mean\n",
       "1472      PUNJAB  1901   523.5           -70.035652\n",
       "1473      PUNJAB  1902   398.0          -195.535652\n",
       "1474      PUNJAB  1903   571.0           -22.535652\n",
       "1475      PUNJAB  1904   451.5          -142.035652\n",
       "1476      PUNJAB  1905   434.3          -159.235652\n",
       "...          ...   ...     ...                  ...\n",
       "1582      PUNJAB  2011   705.2           111.664348\n",
       "1583      PUNJAB  2012   493.6           -99.935652\n",
       "1584      PUNJAB  2013   586.6            -6.935652\n",
       "1585      PUNJAB  2014   382.7          -210.835652\n",
       "1586      PUNJAB  2015   510.8           -82.735652\n",
       "\n",
       "[115 rows x 4 columns]"
      ]
     },
     "execution_count": 136,
     "metadata": {
      "tags": []
     },
     "output_type": "execute_result"
    }
   ],
   "source": [
    "punjab_newdf"
   ]
  },
  {
   "cell_type": "code",
   "execution_count": 0,
   "metadata": {
    "colab": {
     "base_uri": "https://localhost:8080/",
     "height": 419
    },
    "colab_type": "code",
    "id": "UOe5ButxTEcF",
    "outputId": "f98dd702-ca9b-4447-b8d8-3c42617d89a6"
   },
   "outputs": [
    {
     "data": {
      "text/html": [
       "<div>\n",
       "<style scoped>\n",
       "    .dataframe tbody tr th:only-of-type {\n",
       "        vertical-align: middle;\n",
       "    }\n",
       "\n",
       "    .dataframe tbody tr th {\n",
       "        vertical-align: top;\n",
       "    }\n",
       "\n",
       "    .dataframe thead th {\n",
       "        text-align: right;\n",
       "    }\n",
       "</style>\n",
       "<table border=\"1\" class=\"dataframe\">\n",
       "  <thead>\n",
       "    <tr style=\"text-align: right;\">\n",
       "      <th></th>\n",
       "      <th>SUBDIVISION</th>\n",
       "      <th>YEAR</th>\n",
       "      <th>ANNUAL</th>\n",
       "      <th>deviation_from_mean</th>\n",
       "    </tr>\n",
       "  </thead>\n",
       "  <tbody>\n",
       "    <tr>\n",
       "      <th>1472</th>\n",
       "      <td>PUNJAB</td>\n",
       "      <td>1901</td>\n",
       "      <td>523.5</td>\n",
       "      <td>-70.035652</td>\n",
       "    </tr>\n",
       "    <tr>\n",
       "      <th>1473</th>\n",
       "      <td>PUNJAB</td>\n",
       "      <td>1902</td>\n",
       "      <td>398.0</td>\n",
       "      <td>-195.535652</td>\n",
       "    </tr>\n",
       "    <tr>\n",
       "      <th>1474</th>\n",
       "      <td>PUNJAB</td>\n",
       "      <td>1903</td>\n",
       "      <td>571.0</td>\n",
       "      <td>-22.535652</td>\n",
       "    </tr>\n",
       "    <tr>\n",
       "      <th>1475</th>\n",
       "      <td>PUNJAB</td>\n",
       "      <td>1904</td>\n",
       "      <td>451.5</td>\n",
       "      <td>-142.035652</td>\n",
       "    </tr>\n",
       "    <tr>\n",
       "      <th>1476</th>\n",
       "      <td>PUNJAB</td>\n",
       "      <td>1905</td>\n",
       "      <td>434.3</td>\n",
       "      <td>-159.235652</td>\n",
       "    </tr>\n",
       "    <tr>\n",
       "      <th>...</th>\n",
       "      <td>...</td>\n",
       "      <td>...</td>\n",
       "      <td>...</td>\n",
       "      <td>...</td>\n",
       "    </tr>\n",
       "    <tr>\n",
       "      <th>1582</th>\n",
       "      <td>PUNJAB</td>\n",
       "      <td>2011</td>\n",
       "      <td>705.2</td>\n",
       "      <td>111.664348</td>\n",
       "    </tr>\n",
       "    <tr>\n",
       "      <th>1583</th>\n",
       "      <td>PUNJAB</td>\n",
       "      <td>2012</td>\n",
       "      <td>493.6</td>\n",
       "      <td>-99.935652</td>\n",
       "    </tr>\n",
       "    <tr>\n",
       "      <th>1584</th>\n",
       "      <td>PUNJAB</td>\n",
       "      <td>2013</td>\n",
       "      <td>586.6</td>\n",
       "      <td>-6.935652</td>\n",
       "    </tr>\n",
       "    <tr>\n",
       "      <th>1585</th>\n",
       "      <td>PUNJAB</td>\n",
       "      <td>2014</td>\n",
       "      <td>382.7</td>\n",
       "      <td>-210.835652</td>\n",
       "    </tr>\n",
       "    <tr>\n",
       "      <th>1586</th>\n",
       "      <td>PUNJAB</td>\n",
       "      <td>2015</td>\n",
       "      <td>510.8</td>\n",
       "      <td>-82.735652</td>\n",
       "    </tr>\n",
       "  </tbody>\n",
       "</table>\n",
       "<p>115 rows × 4 columns</p>\n",
       "</div>"
      ],
      "text/plain": [
       "     SUBDIVISION  YEAR  ANNUAL  deviation_from_mean\n",
       "1472      PUNJAB  1901   523.5           -70.035652\n",
       "1473      PUNJAB  1902   398.0          -195.535652\n",
       "1474      PUNJAB  1903   571.0           -22.535652\n",
       "1475      PUNJAB  1904   451.5          -142.035652\n",
       "1476      PUNJAB  1905   434.3          -159.235652\n",
       "...          ...   ...     ...                  ...\n",
       "1582      PUNJAB  2011   705.2           111.664348\n",
       "1583      PUNJAB  2012   493.6           -99.935652\n",
       "1584      PUNJAB  2013   586.6            -6.935652\n",
       "1585      PUNJAB  2014   382.7          -210.835652\n",
       "1586      PUNJAB  2015   510.8           -82.735652\n",
       "\n",
       "[115 rows x 4 columns]"
      ]
     },
     "execution_count": 137,
     "metadata": {
      "tags": []
     },
     "output_type": "execute_result"
    }
   ],
   "source": [
    "punjab_newdf"
   ]
  },
  {
   "cell_type": "markdown",
   "metadata": {
    "colab_type": "text",
    "id": "ME0IZYJwTixl"
   },
   "source": [
    "# Iterating a Dataframe"
   ]
  },
  {
   "cell_type": "code",
   "execution_count": 0,
   "metadata": {
    "colab": {},
    "colab_type": "code",
    "id": "hyoqMPrsTHhS"
   },
   "outputs": [],
   "source": [
    "# Count number of times rainfall is more than mean rainfall in punjab"
   ]
  },
  {
   "cell_type": "code",
   "execution_count": 0,
   "metadata": {
    "colab": {},
    "colab_type": "code",
    "id": "PFm4qC7hTw-E"
   },
   "outputs": [],
   "source": [
    "count  = 0\n",
    "for index, row in punjab_newdf.iterrows(): \n",
    "  if row['ANNUAL'] > mean_rainfall:\n",
    "    count=count+ 1 "
   ]
  },
  {
   "cell_type": "code",
   "execution_count": 0,
   "metadata": {
    "colab": {
     "base_uri": "https://localhost:8080/",
     "height": 34
    },
    "colab_type": "code",
    "id": "wB8sDv92UUBh",
    "outputId": "05b11020-100f-45f8-b3f8-b1e843334247"
   },
   "outputs": [
    {
     "data": {
      "text/plain": [
       "51"
      ]
     },
     "execution_count": 140,
     "metadata": {
      "tags": []
     },
     "output_type": "execute_result"
    }
   ],
   "source": [
    "count"
   ]
  },
  {
   "cell_type": "code",
   "execution_count": 0,
   "metadata": {
    "colab": {
     "base_uri": "https://localhost:8080/",
     "height": 282
    },
    "colab_type": "code",
    "id": "6jONxnJLGa8S",
    "outputId": "de6f0379-5695-401e-9290-a6f50d6d5488"
   },
   "outputs": [
    {
     "data": {
      "text/plain": [
       "<matplotlib.axes._subplots.AxesSubplot at 0x7f8d44d619b0>"
      ]
     },
     "execution_count": 141,
     "metadata": {
      "tags": []
     },
     "output_type": "execute_result"
    },
    {
     "data": {
      "image/png": "[encoded data removed]",
      "text/plain": [
       "<Figure size 432x288 with 1 Axes>"
      ]
     },
     "metadata": {
      "needs_background": "light",
      "tags": []
     },
     "output_type": "display_data"
    }
   ],
   "source": [
    "punjab_newdf['ANNUAL'].hist()"
   ]
  },
  {
   "cell_type": "markdown",
   "metadata": {
    "colab_type": "text",
    "id": "cTxOOJOOGs6y"
   },
   "source": [
    "You can see in the above data rainfall is looks close to normally distributed"
   ]
  },
  {
   "cell_type": "markdown",
   "metadata": {
    "colab_type": "text",
    "id": "qC5oKCxeIihY"
   },
   "source": [
    "Now lets try to find year when rainfall happens more than  1.5 times std deviation "
   ]
  },
  {
   "cell_type": "code",
   "execution_count": 0,
   "metadata": {
    "colab": {
     "base_uri": "https://localhost:8080/",
     "height": 34
    },
    "colab_type": "code",
    "id": "STSc8fHOKHtf",
    "outputId": "40ba6953-0111-442f-fb8b-84fd8849580e"
   },
   "outputs": [
    {
     "name": "stdout",
     "output_type": "stream",
     "text": [
      "163.35756776422343\n"
     ]
    }
   ],
   "source": [
    "std_dev= punjab_newdf['ANNUAL'].std()\n",
    "mean_punjab = punjab_newdf['ANNUAL'].mean()\n",
    "print(std_dev)"
   ]
  },
  {
   "cell_type": "code",
   "execution_count": 0,
   "metadata": {
    "colab": {},
    "colab_type": "code",
    "id": "2cLHJ9KuVHnQ"
   },
   "outputs": [],
   "source": [
    "# df.loc[df['column_name'] == some_value]\n",
    "selected_df_max = punjab_newdf.loc[punjab_newdf['ANNUAL'] > (mean_punjab + (std_dev*1.5))]"
   ]
  },
  {
   "cell_type": "code",
   "execution_count": 0,
   "metadata": {
    "colab": {
     "base_uri": "https://localhost:8080/",
     "height": 297
    },
    "colab_type": "code",
    "id": "9gN6r8pgLJtD",
    "outputId": "a2d7f720-0d64-48e6-e2ba-71d34411f0a0"
   },
   "outputs": [
    {
     "data": {
      "text/html": [
       "<div>\n",
       "<style scoped>\n",
       "    .dataframe tbody tr th:only-of-type {\n",
       "        vertical-align: middle;\n",
       "    }\n",
       "\n",
       "    .dataframe tbody tr th {\n",
       "        vertical-align: top;\n",
       "    }\n",
       "\n",
       "    .dataframe thead th {\n",
       "        text-align: right;\n",
       "    }\n",
       "</style>\n",
       "<table border=\"1\" class=\"dataframe\">\n",
       "  <thead>\n",
       "    <tr style=\"text-align: right;\">\n",
       "      <th></th>\n",
       "      <th>SUBDIVISION</th>\n",
       "      <th>YEAR</th>\n",
       "      <th>ANNUAL</th>\n",
       "      <th>deviation_from_mean</th>\n",
       "    </tr>\n",
       "  </thead>\n",
       "  <tbody>\n",
       "    <tr>\n",
       "      <th>1480</th>\n",
       "      <td>PUNJAB</td>\n",
       "      <td>1909</td>\n",
       "      <td>846.1</td>\n",
       "      <td>252.564348</td>\n",
       "    </tr>\n",
       "    <tr>\n",
       "      <th>1488</th>\n",
       "      <td>PUNJAB</td>\n",
       "      <td>1917</td>\n",
       "      <td>1126.7</td>\n",
       "      <td>533.164348</td>\n",
       "    </tr>\n",
       "    <tr>\n",
       "      <th>1504</th>\n",
       "      <td>PUNJAB</td>\n",
       "      <td>1933</td>\n",
       "      <td>860.6</td>\n",
       "      <td>267.064348</td>\n",
       "    </tr>\n",
       "    <tr>\n",
       "      <th>1513</th>\n",
       "      <td>PUNJAB</td>\n",
       "      <td>1942</td>\n",
       "      <td>871.6</td>\n",
       "      <td>278.064348</td>\n",
       "    </tr>\n",
       "    <tr>\n",
       "      <th>1521</th>\n",
       "      <td>PUNJAB</td>\n",
       "      <td>1950</td>\n",
       "      <td>992.0</td>\n",
       "      <td>398.464348</td>\n",
       "    </tr>\n",
       "    <tr>\n",
       "      <th>1526</th>\n",
       "      <td>PUNJAB</td>\n",
       "      <td>1955</td>\n",
       "      <td>973.9</td>\n",
       "      <td>380.364348</td>\n",
       "    </tr>\n",
       "    <tr>\n",
       "      <th>1559</th>\n",
       "      <td>PUNJAB</td>\n",
       "      <td>1988</td>\n",
       "      <td>1222.6</td>\n",
       "      <td>629.064348</td>\n",
       "    </tr>\n",
       "    <tr>\n",
       "      <th>1566</th>\n",
       "      <td>PUNJAB</td>\n",
       "      <td>1995</td>\n",
       "      <td>869.1</td>\n",
       "      <td>275.564348</td>\n",
       "    </tr>\n",
       "  </tbody>\n",
       "</table>\n",
       "</div>"
      ],
      "text/plain": [
       "     SUBDIVISION  YEAR  ANNUAL  deviation_from_mean\n",
       "1480      PUNJAB  1909   846.1           252.564348\n",
       "1488      PUNJAB  1917  1126.7           533.164348\n",
       "1504      PUNJAB  1933   860.6           267.064348\n",
       "1513      PUNJAB  1942   871.6           278.064348\n",
       "1521      PUNJAB  1950   992.0           398.464348\n",
       "1526      PUNJAB  1955   973.9           380.364348\n",
       "1559      PUNJAB  1988  1222.6           629.064348\n",
       "1566      PUNJAB  1995   869.1           275.564348"
      ]
     },
     "execution_count": 144,
     "metadata": {
      "tags": []
     },
     "output_type": "execute_result"
    }
   ],
   "source": [
    "selected_df_max.head(8)"
   ]
  },
  {
   "cell_type": "code",
   "execution_count": 0,
   "metadata": {
    "colab": {},
    "colab_type": "code",
    "id": "Kpx8kdmfLTle"
   },
   "outputs": [],
   "source": [
    "selected_df_min = punjab_newdf.loc[punjab_newdf['ANNUAL'] < (mean_punjab - (std_dev*1.5))]"
   ]
  },
  {
   "cell_type": "code",
   "execution_count": 0,
   "metadata": {
    "colab": {
     "base_uri": "https://localhost:8080/",
     "height": 111
    },
    "colab_type": "code",
    "id": "FoR1-qswMahx",
    "outputId": "98f76b7d-6c24-4bc9-f516-1e9afbe6c9c9"
   },
   "outputs": [
    {
     "data": {
      "text/html": [
       "<div>\n",
       "<style scoped>\n",
       "    .dataframe tbody tr th:only-of-type {\n",
       "        vertical-align: middle;\n",
       "    }\n",
       "\n",
       "    .dataframe tbody tr th {\n",
       "        vertical-align: top;\n",
       "    }\n",
       "\n",
       "    .dataframe thead th {\n",
       "        text-align: right;\n",
       "    }\n",
       "</style>\n",
       "<table border=\"1\" class=\"dataframe\">\n",
       "  <thead>\n",
       "    <tr style=\"text-align: right;\">\n",
       "      <th></th>\n",
       "      <th>SUBDIVISION</th>\n",
       "      <th>YEAR</th>\n",
       "      <th>ANNUAL</th>\n",
       "      <th>deviation_from_mean</th>\n",
       "    </tr>\n",
       "  </thead>\n",
       "  <tbody>\n",
       "    <tr>\n",
       "      <th>1489</th>\n",
       "      <td>PUNJAB</td>\n",
       "      <td>1918</td>\n",
       "      <td>339.6</td>\n",
       "      <td>-253.935652</td>\n",
       "    </tr>\n",
       "    <tr>\n",
       "      <th>1573</th>\n",
       "      <td>PUNJAB</td>\n",
       "      <td>2002</td>\n",
       "      <td>274.7</td>\n",
       "      <td>-318.835652</td>\n",
       "    </tr>\n",
       "  </tbody>\n",
       "</table>\n",
       "</div>"
      ],
      "text/plain": [
       "     SUBDIVISION  YEAR  ANNUAL  deviation_from_mean\n",
       "1489      PUNJAB  1918   339.6          -253.935652\n",
       "1573      PUNJAB  2002   274.7          -318.835652"
      ]
     },
     "execution_count": 146,
     "metadata": {
      "tags": []
     },
     "output_type": "execute_result"
    }
   ],
   "source": [
    "selected_df_min.head()"
   ]
  },
  {
   "cell_type": "markdown",
   "metadata": {
    "colab_type": "text",
    "id": "1B1YTbCLWDvs"
   },
   "source": [
    "Excercise  : \n",
    "\n",
    "```\n",
    "1.Find out states which have Highest Rainfall in the Year 2000 ?\n",
    "2.Find out states which have lowest Rainfall in the year  2000?\n",
    "3. Identify the min rain fall month and max rain fall month from the above state you have found?\n",
    " \n",
    "\n",
    "```"
   ]
  }
 ],
 "metadata": {
  "colab": {
   "name": "data_analyis.ipynb",
   "provenance": []
  },
  "kernelspec": {
   "display_name": "Python 3",
   "language": "python",
   "name": "python3"
  },
  "language_info": {
   "codemirror_mode": {
    "name": "ipython",
    "version": 3
   },
   "file_extension": ".py",
   "mimetype": "text/x-python",
   "name": "python",
   "nbconvert_exporter": "python",
   "pygments_lexer": "ipython3",
   "version": "3.5.2"
  }
 },
 "nbformat": 4,
 "nbformat_minor": 1
}
